{
 "cells": [
  {
   "cell_type": "markdown",
   "metadata": {},
   "source": [
    "## Serie Python \n",
    "### Temas básicos de python.\n",
    "\n",
    "Las indicaciones son editar este archivo, deje casillas de código para que sea de la manera más ordenada posible, una vez que estén sus funciones deben subir a classroom el ipynb y generar un pdf de el mismo. \n",
    "\n",
    "**TODAS LAS CASILLLAS DEBEN ESTAR EJECUTADAS**\n",
    "\n",
    "Muchos incisos implican inputs del usuario, ustedes deben probar cada una de sus funciones (ingresar los valores que se pidan) para mandarme el archivo ipynb y el pdf una vez que hayan ejecutado todo para que vea los outputs de sus programas. En caso de que no lo hagan de esa manera y lo manden sin ejecutar tendrán un **punto menos** en la serie.\n",
    "\n",
    "\n",
    "\n",
    "Mi recomendación personal es que una vez que tengan su serie lista reinicien el kernel y ejecuten todo así podrán probar que todo este correcto antes de enviarlo.\n",
    "\n",
    "\n",
    "No considero que sea una serie dificil, el fin es sólo que práctiquen. Hay muchas cosas que pueden hacerse en una línea si investigan sobre funciones que ya están implementadas en python. \n",
    "\n",
    "Si lo hacen de ambas maneras tendrán un punto extra y si comentan todo su código pueden tener otro punto extra.\n",
    "\n",
    "\n",
    "Cualquier duda o complicación comuniquense conmigo.\n",
    "\n",
    "\n",
    "Saludos."
   ]
  },
  {
   "cell_type": "code",
   "execution_count": 1,
   "metadata": {},
   "outputs": [
    {
     "name": "stdout",
     "output_type": "stream",
     "text": [
      "EJEMPLO:\n",
      "Está casilla ha sido ejecutada por: Adriana\n"
     ]
    },
    {
     "data": {
      "text/plain": [
       "'Adriana'"
      ]
     },
     "execution_count": 1,
     "metadata": {},
     "output_type": "execute_result"
    }
   ],
   "source": [
    "print(\"EJEMPLO:\")\n",
    "input(\"Está casilla ha sido ejecutada por: \")"
   ]
  },
  {
   "cell_type": "markdown",
   "metadata": {},
   "source": [
    "1) Crea una lista que regrese los multiplos de 7 y números que lleven algún siete en sus cifra hasta el 700. \n",
    "\n",
    "    [Out]: [7, 14, 17, 21, 27, 28, 35, 37, ...]"
   ]
  },
  {
   "cell_type": "code",
   "execution_count": null,
   "metadata": {},
   "outputs": [],
   "source": []
  },
  {
   "cell_type": "markdown",
   "metadata": {},
   "source": [
    "2) Realiza una función que reciba un número y regrese dicho número elevado por un número aleatorio entero entre el 1 y el 10"
   ]
  },
  {
   "cell_type": "code",
   "execution_count": null,
   "metadata": {},
   "outputs": [],
   "source": []
  },
  {
   "cell_type": "markdown",
   "metadata": {},
   "source": [
    "3) Crea una función que reciba dos números e indique si son múltiplos el uno del otro "
   ]
  },
  {
   "cell_type": "code",
   "execution_count": null,
   "metadata": {},
   "outputs": [],
   "source": []
  },
  {
   "cell_type": "markdown",
   "metadata": {},
   "source": [
    "4) Crea una función que reciba una lista desordenada de números y la ordene de mayor a menor\n",
    "\n",
    "    Ejemplo: [In]: [77, 1, 364, 587, 21, 13, 54, 999]  [Out]: [999, 587, 364, 77, 54, 21, 13, 1]"
   ]
  },
  {
   "cell_type": "code",
   "execution_count": null,
   "metadata": {},
   "outputs": [],
   "source": []
  },
  {
   "cell_type": "markdown",
   "metadata": {},
   "source": [
    "5) Teniendose una lista con números entre el uno y el diez que pueden o no estar repetidos realiza un programa que pueda regresar el número que no está repetido de cualquier lista de este tipo.\n",
    "\n",
    "    Ejemplo: [In]: [ 1, 1, 2, 2, 3, 4, 4, 5, 5, 6, 6, 7, 7]  [Out]: 3"
   ]
  },
  {
   "cell_type": "code",
   "execution_count": null,
   "metadata": {},
   "outputs": [],
   "source": []
  },
  {
   "cell_type": "markdown",
   "metadata": {},
   "source": [
    "6) Implementa una función que reciba una lista de números enteros entre el uno y el diez que pueden o no estar repetidos y regrese un diccionario cuya clave sea el número (de menor a mayor) y el valor el número de veces que se repite ese item en la lista.\n",
    "\n",
    "      Ejemplo: [In]:[1, 8, 9, 6, 4, 1, 1, 5, 4, 2, 3, 5, 5, 8, 1, 3, 2] \n",
    "               [Out]: { 1:4 , 2:2 , 3:2, 4:2, 5:3, 6:1, 8:2, 9:1} \n",
    "\n",
    "**NOTA**: Consideren que la lista sólo va de 1 al 10 así que pueden evaluar primero los valores dentro de la lista o evaluar del 1 al 10 con lo que obtendrían: { 1:4 , 2:2 , 3:2, 4:2, 5:3, 6:1, 7:0, 8:2, 9:1, 10:0 }"
   ]
  },
  {
   "cell_type": "code",
   "execution_count": null,
   "metadata": {},
   "outputs": [],
   "source": []
  },
  {
   "cell_type": "markdown",
   "metadata": {},
   "source": [
    "7) Elabora una función que reciba valores del usuario y los añada a una lista con la condición de que sea un valor númerico entre el 0 y 10.  \n",
    "\n",
    "**OPCIONAL +1 punto en la serie**: En caso de que no sea un valor númerico que levante <raise> una excepción creada por ustedes que se llamen \"aquí no\""
   ]
  },
  {
   "cell_type": "code",
   "execution_count": null,
   "metadata": {},
   "outputs": [],
   "source": []
  },
  {
   "cell_type": "markdown",
   "metadata": {},
   "source": [
    "8) Haz una función que reciba una frase y regrese un booleano True en caso de ser palindromo y False de no serlo.\n",
    "\n",
    "    Ejemplo: [In]: \"Anita lava la tina\"  [Out]: True\n",
    "    \n",
    "**NOTA**: Tomen en cuenta que los espacios no deben ser tomados en cuenta y que Python es sensible a mayúsculas y minúsculas."
   ]
  },
  {
   "cell_type": "code",
   "execution_count": null,
   "metadata": {},
   "outputs": [],
   "source": []
  },
  {
   "cell_type": "markdown",
   "metadata": {},
   "source": [
    "9) Escribe una función que reciba una cadena y regrese un diccionario donde la llave sea la vocal y el valor el número de veces que aparece en dicha cadena. \n",
    "\n",
    "    Ejemplo: [In]: \"Parangaricutirimicuaro\"   [Out]: { 'a':4, 'e':0, 'i':4, 'o':1, 'u':2 }"
   ]
  },
  {
   "cell_type": "code",
   "execution_count": null,
   "metadata": {},
   "outputs": [],
   "source": []
  },
  {
   "cell_type": "markdown",
   "metadata": {},
   "source": [
    "8) Realiza una función que al ingresar tu altura y tu peso regrese tu índice de masa corporal(IMC)\n",
    "    \n",
    "**NOTA**: IMC= peso en kg / estatura en metros al cuadrado"
   ]
  },
  {
   "cell_type": "code",
   "execution_count": null,
   "metadata": {},
   "outputs": [],
   "source": []
  },
  {
   "cell_type": "markdown",
   "metadata": {},
   "source": [
    "9) Elabora un programa que permita realizar la suma de dos matrices 3x3. Los datos de ambas matrices deberán ser ingresados por el usuario.\n",
    "\n",
    "**NOTA** : Las matrices en python puede implementarse con listas dentro de listas"
   ]
  },
  {
   "cell_type": "code",
   "execution_count": null,
   "metadata": {},
   "outputs": [],
   "source": []
  },
  {
   "cell_type": "markdown",
   "metadata": {},
   "source": [
    "10) Con ayuda de las sentencias if y elif elabora una calculadora que permita sumar, restar, multiplicar y dividir dos números. El usuario podrá elegir qué operación desea realizar e ingresar dichos dos números."
   ]
  },
  {
   "cell_type": "code",
   "execution_count": null,
   "metadata": {},
   "outputs": [],
   "source": []
  },
  {
   "cell_type": "markdown",
   "metadata": {},
   "source": [
    "11) Implementando funciones lamba, elabora un programa que permita realizar las operaciones básicas aritméticas"
   ]
  },
  {
   "cell_type": "code",
   "execution_count": null,
   "metadata": {},
   "outputs": [],
   "source": []
  },
  {
   "cell_type": "markdown",
   "metadata": {},
   "source": [
    "12) Haz una función que regrese los números primos menores de 50\n",
    "\n",
    "    Ejemplo: [Out]: [ 1, 2, 3, 5, 7, 11, 13, 17, 19, 23, 29, 31, 37, 41, 47]"
   ]
  },
  {
   "cell_type": "code",
   "execution_count": null,
   "metadata": {},
   "outputs": [],
   "source": []
  },
  {
   "cell_type": "markdown",
   "metadata": {},
   "source": [
    "13) Realiza una función donde ingreses un número \"n\" y que regrese \"n\" términos de la serie fibonacci\n",
    "    \n",
    "    Ejemplo: [In]: 11 [Out]: [0, 1, 1, 2, 3, 5, 8, 13, 21, 34, 55 ]"
   ]
  },
  {
   "cell_type": "code",
   "execution_count": null,
   "metadata": {},
   "outputs": [],
   "source": []
  },
  {
   "cell_type": "markdown",
   "metadata": {},
   "source": [
    "14) Escribe una función que pida un número \"n\" y luego pida al usuario \"n\" número de entradas"
   ]
  },
  {
   "cell_type": "code",
   "execution_count": null,
   "metadata": {},
   "outputs": [],
   "source": []
  },
  {
   "cell_type": "markdown",
   "metadata": {},
   "source": [
    "15) Realiza una función que reciba una matriz 3x3 y regresé la transpuesta de dicha matriz"
   ]
  },
  {
   "cell_type": "code",
   "execution_count": null,
   "metadata": {},
   "outputs": [],
   "source": []
  },
  {
   "cell_type": "markdown",
   "metadata": {},
   "source": [
    "16) Crea una lista con los números del 1 al 100 que en los multiplos de 7 y números que lleven algún siete en sus cifra regrese la cadena \"Aplauso\"\n",
    "\n",
    "    Ejemplo: [Out]: [1, 2, 3, 4, 5, 6, \"Aplauso\", 8, 9, 10, 11, 12, 13, \"Aplauso\", 15, 16, \"Aplauso\", 18, 19, 20, \"Aplauso\", 22, 23, 24, 25, 26,\"Aplauso\", \"Aplauso\", 29, 30, 31, 32, 33, 34, \"Aplauso\", 36, \"Aplauso\", 38, 39, 40, 41, \"Aplauso\", 43, 44, 45, 46, \"Aplauso\", 48, \"Aplauso\", 50, 51, 52, 53, 54, 55, \"Aplauso\", \"Aplauso\", 58, 59, 60, 61, 62, \"Aplauso\", 64, 65, 66, \"Aplauso\", 68, 69, \"Aplauso\", \"Aplauso\", \"Aplauso\", \"Aplauso\", \"Aplauso\", \"Aplauso\", \"Aplauso\", \"Aplauso\", \"Aplauso\", \"Aplauso\", 80, 81, 82, 83, \"Aplauso\", 85, 86, \"Aplauso\", 88, 89, 90, \"Aplauso\", 92, 93, 94, 95, 96, \"Aplauso\", \"Aplauso\", 99, 100]"
   ]
  },
  {
   "cell_type": "code",
   "execution_count": null,
   "metadata": {},
   "outputs": [],
   "source": []
  },
  {
   "cell_type": "markdown",
   "metadata": {},
   "source": [
    "17) Haz una función que reciba un número \"n\" pueda crear una lista del 1 al 100 que regrese la cadena \"NO\" para los números divisibles entre el número \"n\"\n",
    "\n",
    "    Ejemplo: [In]: 15 [Out]: [0, 1, 2, 3, 4, 5, 6, 7, 8, 9, 10, 11, 12, 13, 14, \"NO\" , 16, 17, 18, 19, 20, 21, 22, 23, 24, 25, 26, 27, 28, 29, \"NO\", 31, 32, 33, 34, 35, 36, 37, 38, 39, 40, 41, 42, 43, 44, \"NO\", 46, 47, 48, 49, 50, 51, 52, 53, 54, 55, 56, 57, 58, 59, \"NO\", 61, 62, 63, 64, 65, 66, 67, 68, 69, 70, 71, 72, 73, 74, \"NO\", 76, 77, 78, 79, 80, 81, 82, 83, 84, 85, 86, 87, 88, 89, \"NO\", 91, 92, 93, 94, 95, 96, 97, 98, 99, 100]"
   ]
  },
  {
   "cell_type": "code",
   "execution_count": null,
   "metadata": {},
   "outputs": [],
   "source": []
  },
  {
   "cell_type": "markdown",
   "metadata": {},
   "source": [
    "18) Dada una lista con elementos númericos del 1 al 100 elabora una lista por comprensión que guarde los elementos que son múltiplos de 5."
   ]
  },
  {
   "cell_type": "code",
   "execution_count": null,
   "metadata": {},
   "outputs": [],
   "source": []
  },
  {
   "cell_type": "markdown",
   "metadata": {},
   "source": [
    "19) Escribe una función que tome un entero positivo \"n\" y regrese la suma de los cuadrados de todos los números pares menores o iguales que \"n\"\n",
    "\n",
    "    Ejemplo: [In]: 12 [Out]: 364\n",
    "    "
   ]
  },
  {
   "cell_type": "code",
   "execution_count": null,
   "metadata": {},
   "outputs": [],
   "source": []
  },
  {
   "cell_type": "markdown",
   "metadata": {},
   "source": [
    "19) Realiza una función que pida un número \"n\" y elabora un menú donde el usuario pueda elegir si quiere convertir  n a base binaria, hexadecimal u octal.\n",
    "\n",
    "    Ejemplo suponiendo que se elige hexadecimal: [In]: 365 [Out]: 16d\n",
    "    \n",
    "**NOTA**: Pueden realizar la función desde 0 lo cuál les daría su punto extra o investiguen los métodos hex(), bin(),...."
   ]
  },
  {
   "cell_type": "code",
   "execution_count": null,
   "metadata": {},
   "outputs": [],
   "source": []
  },
  {
   "cell_type": "markdown",
   "metadata": {},
   "source": [
    "20) En esta opción eres libre de poner cualquier función. Debes comentar que es lo que hace\n",
    "\n",
    "**NOTA**: No, no puede ser sólo un print. \n",
    "\n",
    "**NOTA**: No, tampoco cuenta hacer dos o tres prints. \n",
    "\n",
    "**NOTA**: Deben usar aunque sea un bucle, sean creativos. "
   ]
  },
  {
   "cell_type": "code",
   "execution_count": null,
   "metadata": {},
   "outputs": [],
   "source": []
  }
 ],
 "metadata": {
  "kernelspec": {
   "display_name": "Python 3",
   "language": "python",
   "name": "python3"
  },
  "language_info": {
   "codemirror_mode": {
    "name": "ipython",
    "version": 3
   },
   "file_extension": ".py",
   "mimetype": "text/x-python",
   "name": "python",
   "nbconvert_exporter": "python",
   "pygments_lexer": "ipython3",
   "version": "3.7.3"
  }
 },
 "nbformat": 4,
 "nbformat_minor": 2
}
