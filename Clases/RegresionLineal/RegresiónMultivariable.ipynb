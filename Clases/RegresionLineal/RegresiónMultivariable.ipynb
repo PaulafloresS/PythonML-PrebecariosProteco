{
  "nbformat": 4,
  "nbformat_minor": 0,
  "metadata": {
    "kernelspec": {
      "display_name": "Python 3",
      "language": "python",
      "name": "python3"
    },
    "language_info": {
      "codemirror_mode": {
        "name": "ipython",
        "version": 3
      },
      "file_extension": ".py",
      "mimetype": "text/x-python",
      "name": "python",
      "nbconvert_exporter": "python",
      "pygments_lexer": "ipython3",
      "version": "3.7.4"
    },
    "colab": {
      "name": "RegresiónMultivariable.ipynb",
      "provenance": []
    }
  },
  "cells": [
    {
      "cell_type": "markdown",
      "metadata": {
        "id": "4dKc84pdVj4F",
        "colab_type": "text"
      },
      "source": [
        "# Regresión Lineal Multivariable"
      ]
    },
    {
      "cell_type": "code",
      "metadata": {
        "id": "L_P4INiVVj4H",
        "colab_type": "code",
        "colab": {}
      },
      "source": [
        "import numpy as np\n",
        "import pandas as pd\n",
        "import matplotlib.pyplot as plt"
      ],
      "execution_count": 0,
      "outputs": []
    },
    {
      "cell_type": "code",
      "metadata": {
        "id": "pzbTHWVmVj4L",
        "colab_type": "code",
        "outputId": "5a6c7613-fb90-46e6-a921-eba8161b2a34",
        "colab": {
          "base_uri": "https://localhost:8080/",
          "height": 195
        }
      },
      "source": [
        "url = 'https://raw.githubusercontent.com/adrishg/PythonML-PrebecariosProteco/master/DataSets/regresionLinealMultivariable.csv'\n",
        "data = pd.read_csv(url, header = 0)\n",
        "data.head()"
      ],
      "execution_count": 22,
      "outputs": [
        {
          "output_type": "execute_result",
          "data": {
            "text/html": [
              "<div>\n",
              "<style scoped>\n",
              "    .dataframe tbody tr th:only-of-type {\n",
              "        vertical-align: middle;\n",
              "    }\n",
              "\n",
              "    .dataframe tbody tr th {\n",
              "        vertical-align: top;\n",
              "    }\n",
              "\n",
              "    .dataframe thead th {\n",
              "        text-align: right;\n",
              "    }\n",
              "</style>\n",
              "<table border=\"1\" class=\"dataframe\">\n",
              "  <thead>\n",
              "    <tr style=\"text-align: right;\">\n",
              "      <th></th>\n",
              "      <th>nrow</th>\n",
              "      <th>tiempo</th>\n",
              "      <th>altura</th>\n",
              "    </tr>\n",
              "  </thead>\n",
              "  <tbody>\n",
              "    <tr>\n",
              "      <th>0</th>\n",
              "      <td>0</td>\n",
              "      <td>2.243013</td>\n",
              "      <td>88.191558</td>\n",
              "    </tr>\n",
              "    <tr>\n",
              "      <th>1</th>\n",
              "      <td>1</td>\n",
              "      <td>4.307589</td>\n",
              "      <td>220.246174</td>\n",
              "    </tr>\n",
              "    <tr>\n",
              "      <th>2</th>\n",
              "      <td>2</td>\n",
              "      <td>3.195260</td>\n",
              "      <td>149.843691</td>\n",
              "    </tr>\n",
              "    <tr>\n",
              "      <th>3</th>\n",
              "      <td>3</td>\n",
              "      <td>1.278103</td>\n",
              "      <td>44.102866</td>\n",
              "    </tr>\n",
              "    <tr>\n",
              "      <th>4</th>\n",
              "      <td>4</td>\n",
              "      <td>1.956540</td>\n",
              "      <td>79.644370</td>\n",
              "    </tr>\n",
              "  </tbody>\n",
              "</table>\n",
              "</div>"
            ],
            "text/plain": [
              "   nrow    tiempo      altura\n",
              "0     0  2.243013   88.191558\n",
              "1     1  4.307589  220.246174\n",
              "2     2  3.195260  149.843691\n",
              "3     3  1.278103   44.102866\n",
              "4     4  1.956540   79.644370"
            ]
          },
          "metadata": {
            "tags": []
          },
          "execution_count": 22
        }
      ]
    },
    {
      "cell_type": "code",
      "metadata": {
        "id": "EL__BMixVj4O",
        "colab_type": "code",
        "outputId": "23fba336-c2c2-49be-e880-bb4550d4856a",
        "colab": {
          "base_uri": "https://localhost:8080/",
          "height": 279
        }
      },
      "source": [
        "# Gráfica de los datos.\n",
        "X = data.tiempo.values\n",
        "Y = data.altura.values\n",
        "plt.scatter(X, Y, c = 'k')\n",
        "plt.xlabel('tiempo')\n",
        "plt.ylabel('altura')\n",
        "plt.show()"
      ],
      "execution_count": 23,
      "outputs": [
        {
          "output_type": "display_data",
          "data": {
            "image/png": "[encoded data removed]",
            "text/plain": [
              "<Figure size 432x288 with 1 Axes>"
            ]
          },
          "metadata": {
            "tags": [],
            "needs_background": "light"
          }
        }
      ]
    },
    {
      "cell_type": "markdown",
      "metadata": {
        "id": "avBaKKFoVj4R",
        "colab_type": "text"
      },
      "source": [
        "## Entrenamiento"
      ]
    },
    {
      "cell_type": "code",
      "metadata": {
        "id": "GwTuKZkcVj4R",
        "colab_type": "code",
        "colab": {}
      },
      "source": [
        "#Función para separa los datos para entrenar el modelo (Training) y para probar el modelo (Test)\n",
        "def separacionDatosTestTraining(x, y, tamanioTest=0.2):\n",
        "    tamanioDatos= y.size\n",
        "    t= int(tamanioTest * tamanioDatos)\n",
        "    datosTest= np.random.choice(tamanioDatos, t) #Indices/Coeficientes de datos a retirar para el training\n",
        "    datosTraining= np.setdiff1d( np.arange(tamanioDatos), datosTest)\n",
        "    \n",
        "    return x[datosTraining], y[datosTraining], x[datosTest], y[datosTest]  "
      ],
      "execution_count": 0,
      "outputs": []
    },
    {
      "cell_type": "code",
      "metadata": {
        "id": "77NjHzsmVj4T",
        "colab_type": "code",
        "colab": {}
      },
      "source": [
        "def funcionDeHipotesis(x, theta):\n",
        "    h = x @ theta\n",
        "    return h"
      ],
      "execution_count": 0,
      "outputs": []
    },
    {
      "cell_type": "code",
      "metadata": {
        "id": "y1Mrb9cLVj4W",
        "colab_type": "code",
        "colab": {}
      },
      "source": [
        "def funcionDeCosto(x, y, theta):\n",
        "    h = funcionDeHipotesis(x, theta)\n",
        "    m = y.size\n",
        "    d = y - h\n",
        "    j = d @ d / (2 * m)\n",
        "    return j"
      ],
      "execution_count": 0,
      "outputs": []
    },
    {
      "cell_type": "code",
      "metadata": {
        "id": "XX4aLtLeVj4Z",
        "colab_type": "code",
        "colab": {}
      },
      "source": [
        "def gradienteCostos(x, y, theta):\n",
        "    m = y.size\n",
        "    h = funcionDeHipotesis(x, theta)\n",
        "    dj = ((h - y) @ x) / m\n",
        "    return dj"
      ],
      "execution_count": 0,
      "outputs": []
    },
    {
      "cell_type": "code",
      "metadata": {
        "id": "__Y7230pVj4c",
        "colab_type": "code",
        "colab": {}
      },
      "source": [
        "def gradienteDescenso(x, y, alfa, E = 0.001):\n",
        "    m = y.size\n",
        "    x = np.hstack([np.ones([m, 1]), x])\n",
        "    n = x.shape[1]\n",
        "    theta = np.zeros([n])\n",
        "\n",
        "    costoAnterior = funcionDeCosto(x, y, theta)\n",
        "    theta = theta - alfa * gradienteCostos(x, y, theta)\n",
        "    costoActual = funcionDeCosto(x, y, theta)\n",
        "\n",
        "    diferencia = abs(costoActual - costoAnterior)\n",
        "\n",
        "    iteraciones = [0, 1]\n",
        "    historialCostos = [costoAnterior, costoActual]\n",
        "    i = 2\n",
        "\n",
        "    while diferencia > E:  # Mientras no converga\n",
        "        costoAnterior = costoActual\n",
        "        theta = theta - alfa * gradienteCostos(x, y, theta)\n",
        "        costoActual = funcionDeCosto(x, y, theta)\n",
        "\n",
        "        diferencia = abs(costoActual - costoAnterior)\n",
        "\n",
        "        iteraciones.append(i)\n",
        "        historialCostos.append(costoActual)\n",
        "        i += 1\n",
        "\n",
        "    plt.plot(iteraciones, historialCostos)\n",
        "    plt.title('Funcion de costo respecto a las iteraciones')\n",
        "    plt.xlabel('Iteraciones')\n",
        "    plt.ylabel('costo')\n",
        "    print(\"Ultimo costo:\", historialCostos[-1])\n",
        "    plt.show()\n",
        "    return theta"
      ],
      "execution_count": 0,
      "outputs": []
    },
    {
      "cell_type": "code",
      "metadata": {
        "id": "1m5KvI9cVj4e",
        "colab_type": "code",
        "outputId": "e34e27fb-8400-477a-e83b-5b49f21ccdc5",
        "colab": {
          "base_uri": "https://localhost:8080/",
          "height": 346
        }
      },
      "source": [
        "alfa = 0.001\n",
        "X = X.reshape([Y.size, 1])\n",
        "X = np.hstack([X, X**2])\n",
        "x_test, y_test, x_train, y_train = separacionDatosTestTraining(X, Y)\n",
        "theta = gradienteDescenso(x_train, y_train, alfa)\n",
        "print(\"theta:\\n\", theta)"
      ],
      "execution_count": 29,
      "outputs": [
        {
          "output_type": "stream",
          "text": [
            "Ultimo costo: 12.384129888470856\n"
          ],
          "name": "stdout"
        },
        {
          "output_type": "display_data",
          "data": {
            "image/png": "[encoded data removed]",
            "text/plain": [
              "<Figure size 432x288 with 1 Axes>"
            ]
          },
          "metadata": {
            "tags": [],
            "needs_background": "light"
          }
        },
        {
          "output_type": "stream",
          "text": [
            "theta:\n",
            " [ 9.14459692 21.81818959  6.42389781]\n"
          ],
          "name": "stdout"
        }
      ]
    },
    {
      "cell_type": "code",
      "metadata": {
        "id": "0NPjjC4cVj4g",
        "colab_type": "code",
        "outputId": "1f09456a-1a28-4acd-9894-d6a67bb37e86",
        "colab": {
          "base_uri": "https://localhost:8080/",
          "height": 34
        }
      },
      "source": [
        "x_test = np.hstack([np.ones([y_test.size, 1]), x_test])\n",
        "print(\"Costo:\", funcionDeCosto(x_test, y_test, theta))"
      ],
      "execution_count": 30,
      "outputs": [
        {
          "output_type": "stream",
          "text": [
            "Costo: 9.11641734451062\n"
          ],
          "name": "stdout"
        }
      ]
    },
    {
      "cell_type": "markdown",
      "metadata": {
        "id": "gK5TM4PzVj4j",
        "colab_type": "text"
      },
      "source": [
        "## Resultados"
      ]
    },
    {
      "cell_type": "code",
      "metadata": {
        "id": "htri7KWXVj4j",
        "colab_type": "code",
        "outputId": "39c6a33d-7af0-4dc8-9fa9-6c84680f2c6c",
        "colab": {
          "base_uri": "https://localhost:8080/",
          "height": 295
        }
      },
      "source": [
        "# Gráfica de datos entrenamiento y modelo obtenido.\n",
        "\n",
        "\n",
        "x = np.linspace(0, 5)\n",
        "y = theta[0] + theta[1] * x + theta[2]*x**2\n",
        "plt.scatter(x_train[:, 0], y_train, c = 'k')\n",
        "plt.plot(x, y, 'r')\n",
        "plt.xlabel('tiempo')\n",
        "plt.ylabel('altura')\n",
        "plt.title('Tiempo - Altura (Entrenamiento)')\n",
        "plt.show()"
      ],
      "execution_count": 31,
      "outputs": [
        {
          "output_type": "display_data",
          "data": {
            "image/png": "[encoded data removed]",
            "text/plain": [
              "<Figure size 432x288 with 1 Axes>"
            ]
          },
          "metadata": {
            "tags": [],
            "needs_background": "light"
          }
        }
      ]
    },
    {
      "cell_type": "code",
      "metadata": {
        "id": "gyek3r9-Vj4m",
        "colab_type": "code",
        "outputId": "a2515b54-767a-4ca1-8493-fe0ec14ccd06",
        "colab": {
          "base_uri": "https://localhost:8080/",
          "height": 295
        }
      },
      "source": [
        "# Gráfica de datos de prueba y modelo obtenido.\n",
        "\n",
        "ypred = theta[0] + theta[1] * x_test[:, 1] + theta[2]*x_test[:, 2]\n",
        "plt.scatter(x_test[:, 1], y_test, c = 'k')\n",
        "plt.plot(x_test[:, 1], ypred, 'or')\n",
        "plt.xlabel('tiempo')\n",
        "plt.ylabel('altura')\n",
        "plt.title('Tiempo - Altura (Prueba)')\n",
        "plt.show()"
      ],
      "execution_count": 32,
      "outputs": [
        {
          "output_type": "display_data",
          "data": {
            "image/png": "[encoded data removed]",
            "text/plain": [
              "<Figure size 432x288 with 1 Axes>"
            ]
          },
          "metadata": {
            "tags": [],
            "needs_background": "light"
          }
        }
      ]
    },
    {
      "cell_type": "markdown",
      "metadata": {
        "id": "HPVKCnkCVj4p",
        "colab_type": "text"
      },
      "source": [
        "## Pruebas con sklearn"
      ]
    },
    {
      "cell_type": "code",
      "metadata": {
        "id": "2K5ixlJ9Vj4q",
        "colab_type": "code",
        "colab": {}
      },
      "source": [
        "from sklearn.model_selection import train_test_split\n",
        "from sklearn.linear_model import LinearRegression"
      ],
      "execution_count": 0,
      "outputs": []
    },
    {
      "cell_type": "code",
      "metadata": {
        "id": "Kv-D0ngGVj4s",
        "colab_type": "code",
        "outputId": "f7a6b04b-72c1-4aad-e1df-8596cbe8ebd8",
        "colab": {
          "base_uri": "https://localhost:8080/",
          "height": 50
        }
      },
      "source": [
        "X = data.tiempo.values\n",
        "Y = data.altura.values\n",
        "X = X.reshape([Y.size, 1])\n",
        "XX2 = np.hstack([X, X**2])\n",
        "\n",
        "modelo = LinearRegression()\n",
        "x_train, x_test, y_train, y_test = train_test_split(XX2, Y)\n",
        "\n",
        "modelo.fit(x_train, y_train)\n",
        "y_pred_sklearn = modelo.predict(x_test)\n",
        "theta_sklearn = np.hstack([modelo.intercept_, modelo.coef_])\n",
        "print(\"theta (sklearn):\\n\", theta_sklearn)"
      ],
      "execution_count": 34,
      "outputs": [
        {
          "output_type": "stream",
          "text": [
            "theta (sklearn):\n",
            " [-0.38877074 30.4752753   4.84924911]\n"
          ],
          "name": "stdout"
        }
      ]
    },
    {
      "cell_type": "code",
      "metadata": {
        "id": "_kXhyw5nVj4u",
        "colab_type": "code",
        "outputId": "f34e55fe-319d-40af-a230-307c8a78c7b3",
        "colab": {
          "base_uri": "https://localhost:8080/",
          "height": 295
        }
      },
      "source": [
        "# Gráfica de datos de prueba y modelo obtenido con sklearn.\n",
        "\n",
        "plt.scatter(x_test[:, 0], y_test, c = 'k')\n",
        "plt.plot(x_test[:, 0], y_pred_sklearn, 'or')\n",
        "plt.xlabel('tiempo')\n",
        "plt.ylabel('altura')\n",
        "plt.title('Tiempo - Altura (Prueba con sklearn)')\n",
        "plt.show()"
      ],
      "execution_count": 35,
      "outputs": [
        {
          "output_type": "display_data",
          "data": {
            "image/png": "[encoded data removed]",
            "text/plain": [
              "<Figure size 432x288 with 1 Axes>"
            ]
          },
          "metadata": {
            "tags": [],
            "needs_background": "light"
          }
        }
      ]
    },
    {
      "cell_type": "markdown",
      "metadata": {
        "id": "u8rbYWbjVj4z",
        "colab_type": "text"
      },
      "source": [
        "## Comparación de modelos (scratch vs sklearn)"
      ]
    },
    {
      "cell_type": "code",
      "metadata": {
        "id": "kl75ubcJVj40",
        "colab_type": "code",
        "outputId": "9c6e0cdf-1918-4588-ce05-d2fbeaf029a6",
        "colab": {
          "base_uri": "https://localhost:8080/",
          "height": 101
        }
      },
      "source": [
        "t = np.linspace(0, 5, 100)\n",
        "t = t.reshape([t.size, 1])\n",
        "tt = np.hstack([np.ones([t.size, 1]), t, t**2])\n",
        "print(\"theta (scratch):\\n\", theta)\n",
        "print(\"\\ntheta (sklearn):\\n\", theta_sklearn)"
      ],
      "execution_count": 36,
      "outputs": [
        {
          "output_type": "stream",
          "text": [
            "theta (scratch):\n",
            " [ 9.14459692 21.81818959  6.42389781]\n",
            "\n",
            "theta (sklearn):\n",
            " [-0.38877074 30.4752753   4.84924911]\n"
          ],
          "name": "stdout"
        }
      ]
    },
    {
      "cell_type": "code",
      "metadata": {
        "id": "hFj-Wf3BVj42",
        "colab_type": "code",
        "outputId": "9fee99b7-4829-487e-ec15-e03069cace87",
        "colab": {
          "base_uri": "https://localhost:8080/",
          "height": 295
        }
      },
      "source": [
        "ypred_scratch = tt @ theta\n",
        "ypred_sklearn = tt @ theta_sklearn\n",
        "plt.scatter(X, Y, c = 'k', label = 'Datos')\n",
        "plt.plot(t, ypred_scratch, c = 'r', lw = 3, label = 'Modelo scratch')\n",
        "plt.plot(t, ypred_sklearn, c = 'b', lw = 3, label = 'Modelo sklearn')\n",
        "plt.xlabel('tiempo')\n",
        "plt.ylabel('altura')\n",
        "plt.title('Comparación de modelos (scratch vs sklearn)')\n",
        "plt.legend()\n",
        "plt.show()"
      ],
      "execution_count": 37,
      "outputs": [
        {
          "output_type": "display_data",
          "data": {
            "image/png": "[encoded data removed]",
            "text/plain": [
              "<Figure size 432x288 with 1 Axes>"
            ]
          },
          "metadata": {
            "tags": [],
            "needs_background": "light"
          }
        }
      ]
    }
  ]
}