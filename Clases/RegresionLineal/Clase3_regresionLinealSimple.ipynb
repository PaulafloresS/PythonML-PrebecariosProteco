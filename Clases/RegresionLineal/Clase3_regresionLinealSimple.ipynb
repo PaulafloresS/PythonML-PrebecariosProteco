{
  "nbformat": 4,
  "nbformat_minor": 0,
  "metadata": {
    "colab": {
      "name": "Clase3_regresionLinealSimple.ipynb",
      "provenance": [],
      "collapsed_sections": []
    },
    "kernelspec": {
      "name": "python3",
      "display_name": "Python 3"
    }
  },
  "cells": [
    {
      "cell_type": "markdown",
      "metadata": {
        "id": "jOzfUIgisrX-",
        "colab_type": "text"
      },
      "source": [
        "## Regresión Lineal\n",
        "##### Implementada con python con vectorización\n"
      ]
    },
    {
      "cell_type": "code",
      "metadata": {
        "id": "6_Nw5mTOy7RN",
        "colab_type": "code",
        "colab": {}
      },
      "source": [
        "import pandas as pd\n",
        "import numpy as np\n",
        "import matplotlib.pyplot as plt"
      ],
      "execution_count": 0,
      "outputs": []
    },
    {
      "cell_type": "code",
      "metadata": {
        "id": "9uQr3lWwzwdi",
        "colab_type": "code",
        "outputId": "aea4a798-7bab-4aca-d441-0b0025e6f837",
        "colab": {
          "base_uri": "https://localhost:8080/",
          "height": 195
        }
      },
      "source": [
        "#Obtenemos los datos de un csv que está en github creando un dataFrame\n",
        "url = 'https://raw.githubusercontent.com/adrishg/PythonML-PrebecariosProteco/master/DataSets/regresionLineal.csv'\n",
        "datos = pd.read_csv(url)\n",
        "datos.tail()"
      ],
      "execution_count": 2,
      "outputs": [
        {
          "output_type": "execute_result",
          "data": {
            "text/html": [
              "<div>\n",
              "<style scoped>\n",
              "    .dataframe tbody tr th:only-of-type {\n",
              "        vertical-align: middle;\n",
              "    }\n",
              "\n",
              "    .dataframe tbody tr th {\n",
              "        vertical-align: top;\n",
              "    }\n",
              "\n",
              "    .dataframe thead th {\n",
              "        text-align: right;\n",
              "    }\n",
              "</style>\n",
              "<table border=\"1\" class=\"dataframe\">\n",
              "  <thead>\n",
              "    <tr style=\"text-align: right;\">\n",
              "      <th></th>\n",
              "      <th>poblacion</th>\n",
              "      <th>beneficio</th>\n",
              "    </tr>\n",
              "  </thead>\n",
              "  <tbody>\n",
              "    <tr>\n",
              "      <th>92</th>\n",
              "      <td>5.8707</td>\n",
              "      <td>7.20290</td>\n",
              "    </tr>\n",
              "    <tr>\n",
              "      <th>93</th>\n",
              "      <td>5.3054</td>\n",
              "      <td>1.98690</td>\n",
              "    </tr>\n",
              "    <tr>\n",
              "      <th>94</th>\n",
              "      <td>8.2934</td>\n",
              "      <td>0.14454</td>\n",
              "    </tr>\n",
              "    <tr>\n",
              "      <th>95</th>\n",
              "      <td>13.3940</td>\n",
              "      <td>9.05510</td>\n",
              "    </tr>\n",
              "    <tr>\n",
              "      <th>96</th>\n",
              "      <td>5.4369</td>\n",
              "      <td>0.61705</td>\n",
              "    </tr>\n",
              "  </tbody>\n",
              "</table>\n",
              "</div>"
            ],
            "text/plain": [
              "    poblacion  beneficio\n",
              "92     5.8707    7.20290\n",
              "93     5.3054    1.98690\n",
              "94     8.2934    0.14454\n",
              "95    13.3940    9.05510\n",
              "96     5.4369    0.61705"
            ]
          },
          "metadata": {
            "tags": []
          },
          "execution_count": 2
        }
      ]
    },
    {
      "cell_type": "code",
      "metadata": {
        "id": "0VfVyHb00-QQ",
        "colab_type": "code",
        "outputId": "18cb9dd1-f827-4c29-818d-ffa3f92218b8",
        "colab": {
          "base_uri": "https://localhost:8080/",
          "height": 295
        }
      },
      "source": [
        "#Creamos los vectores X y Y que contienen los datos del dataFrame creado a partir del csv\n",
        "X = datos.poblacion.values\n",
        "Y = datos.beneficio.values\n",
        "\n",
        "#Creamos una gráfica de dispersión con dichos datos\n",
        "plt.scatter(X,Y)\n",
        "\n",
        "#Asignamos titulos a \"x\" y \"y\"\n",
        "plt.xlabel('Población')\n",
        "plt.ylabel('Benedicio')\n",
        "\n",
        "#Asignamos un título a la gráfica\n",
        "plt.title('Población vs Beneficio')\n",
        "\n",
        "#Mostramos la gráfica\n",
        "plt.show()"
      ],
      "execution_count": 3,
      "outputs": [
        {
          "output_type": "display_data",
          "data": {
            "image/png": "[encoded data removed]",
            "text/plain": [
              "<Figure size 432x288 with 1 Axes>"
            ]
          },
          "metadata": {
            "tags": [],
            "needs_background": "light"
          }
        }
      ]
    },
    {
      "cell_type": "markdown",
      "metadata": {
        "id": "2PdZkfwx2nYg",
        "colab_type": "text"
      },
      "source": [
        "## Empezamos regresión lineal\n",
        "\n",
        "Requerimientos para implementar la regresión lineal:\n",
        "\n",
        "\n",
        "1) Separar los datos \n",
        "\n",
        "2) Función de hipótesis \n",
        "\n",
        "3) Función de costo \n",
        "\n",
        "4) Gradiente de la funcion de costos \n",
        "\n",
        "5) Gradiente de descenso \n",
        "\n",
        "6) Probar el modelo \n",
        "\n"
      ]
    },
    {
      "cell_type": "code",
      "metadata": {
        "id": "tMsJongjMdHg",
        "colab_type": "code",
        "colab": {}
      },
      "source": [
        "#Función para separa los datos para entrenar el modelo (Training) y para probar el modelo (Test)\n",
        "def separacionDatosTestTraining(x, y, tamanioTest=0.2):\n",
        "    tamanioDatos= y.size\n",
        "    t= int(tamanioTest * tamanioDatos)\n",
        "    datosTest= np.random.choice(tamanioDatos, t) #Indices/Coeficientes de datos a retirar para el training\n",
        "    datosTraining= np.setdiff1d( np.arange(tamanioDatos), datosTest)\n",
        "    \n",
        "    return x[datosTraining], y[datosTraining], x[datosTest], y[datosTest]  "
      ],
      "execution_count": 0,
      "outputs": []
    },
    {
      "cell_type": "code",
      "metadata": {
        "id": "EW5lHeWZ2Z08",
        "colab_type": "code",
        "colab": {}
      },
      "source": [
        "#La función de hipótesis\n",
        "def funcionDeHipotesis(x, theta):\n",
        "  h = x @ theta #@implica multiplicación de matrices\n",
        "  return h"
      ],
      "execution_count": 0,
      "outputs": []
    },
    {
      "cell_type": "code",
      "metadata": {
        "id": "exONVkl02-Qb",
        "colab_type": "code",
        "colab": {}
      },
      "source": [
        "def funcionDeCosto(x, y, theta):\n",
        "  h = funcionDeHipotesis(x, theta)\n",
        "  m = y.size\n",
        "  d = y - h\n",
        "  j = d @ d / (2 * m)\n",
        "  return j"
      ],
      "execution_count": 0,
      "outputs": []
    },
    {
      "cell_type": "code",
      "metadata": {
        "id": "COivInLH4dss",
        "colab_type": "code",
        "colab": {}
      },
      "source": [
        "def gradienteCostos(x, y, theta):\n",
        "    m = y.size\n",
        "    h = funcionDeHipotesis(x, theta)\n",
        "    dj = ((h - y) @ x) / m\n",
        "    return dj"
      ],
      "execution_count": 0,
      "outputs": []
    },
    {
      "cell_type": "code",
      "metadata": {
        "id": "pHFq32vP4lM4",
        "colab_type": "code",
        "colab": {}
      },
      "source": [
        "def gradienteDescenso(x, y, alfa, E = 0.001):\n",
        "  m = y.size\n",
        "  #Añadimos otra columna a x ya que deberemos hacer comparaciones con el vector de theta que siempre nos dará un parámetro más \n",
        "  x = np.hstack([np.ones([m, 1]), x]) \n",
        "  n = x.shape[1]\n",
        "\n",
        "  #Esto es para generalizar el algoritmo y no sólo sirva para regresión lineal simple sigo para n parámetros de theta\n",
        "  theta = np.zeros([n])\n",
        "\n",
        "  costoAnterior = funcionDeCosto(x, y, theta)\n",
        "  theta = theta - alfa * gradienteCostos(x, y, theta)\n",
        "  costoActual = funcionDeCosto(x, y, theta)\n",
        "\n",
        "  diferencia = abs(costoActual - costoAnterior)\n",
        "\n",
        "  iteraciones = [0, 1]\n",
        "  historialCostos = [costoAnterior, costoActual]\n",
        "  i = 2\n",
        "\n",
        "  while diferencia > E:  # Mientras no converga\n",
        "    costoAnterior = costoActual\n",
        "    theta = theta - alfa * gradienteCostos(x, y, theta)\n",
        "    costoActual = funcionDeCosto(x, y, theta)\n",
        "\n",
        "    diferencia = abs(costoActual - costoAnterior)\n",
        "\n",
        "    iteraciones.append(i)\n",
        "    historialCostos.append(costoActual)\n",
        "    i += 1\n",
        "\n",
        "  plt.plot(iteraciones, historialCostos)\n",
        "  plt.title('Funcion de costo respecto a las iteraciones')\n",
        "  plt.xlabel('Iteraciones')\n",
        "  plt.ylabel('costo')\n",
        "  print(\"Ultimo costo:\", historialCostos[-1])\n",
        "  plt.show()\n",
        "  return theta"
      ],
      "execution_count": 0,
      "outputs": []
    },
    {
      "cell_type": "code",
      "metadata": {
        "id": "0EWYGox3FhcK",
        "colab_type": "code",
        "outputId": "47ba7fba-2de4-4564-eebf-7cbb228d08aa",
        "colab": {
          "base_uri": "https://localhost:8080/",
          "height": 346
        }
      },
      "source": [
        "alfa = 0.001\n",
        "print(X.shape)\n",
        "#Esto resuelve el problema de shapes\n",
        "X = X.reshape([Y.size, 1])\n",
        "x_test, y_test, x_train, y_train = separacionDatosTestTraining(X, Y)\n",
        "theta = gradienteDescenso(x_train, y_train, alfa)\n",
        "\n",
        "#Ultimo costo: 32.07273387745137\n",
        "#Ultimo costo: 5.8905509018978295\n",
        "theta"
      ],
      "execution_count": 16,
      "outputs": [
        {
          "output_type": "stream",
          "text": [
            "(97, 1)\n",
            "Ultimo costo: 6.897537272190391\n"
          ],
          "name": "stdout"
        },
        {
          "output_type": "display_data",
          "data": {
            "image/png": "[encoded data removed]",
            "text/plain": [
              "<Figure size 432x288 with 1 Axes>"
            ]
          },
          "metadata": {
            "tags": [],
            "needs_background": "light"
          }
        },
        {
          "output_type": "execute_result",
          "data": {
            "text/plain": [
              "array([0.03727436, 0.6960893 ])"
            ]
          },
          "metadata": {
            "tags": []
          },
          "execution_count": 16
        }
      ]
    },
    {
      "cell_type": "code",
      "metadata": {
        "id": "G1Hn9ShcO1sd",
        "colab_type": "code",
        "outputId": "83939c42-aa95-4eeb-f7fc-9c4621105401",
        "colab": {
          "base_uri": "https://localhost:8080/",
          "height": 34
        }
      },
      "source": [
        "\n",
        "x_test = np.hstack([np.ones([y_test.size, 1]), x_test])\n",
        "print(\"Costo:\", funcionDeCosto(x_test, y_test, theta))\n",
        "\n"
      ],
      "execution_count": 17,
      "outputs": [
        {
          "output_type": "stream",
          "text": [
            "Costo: 6.062933902241215\n"
          ],
          "name": "stdout"
        }
      ]
    },
    {
      "cell_type": "code",
      "metadata": {
        "id": "VpuVlJylILS4",
        "colab_type": "code",
        "outputId": "5b3401cb-782d-46cd-e5bb-4544a4b968e1",
        "colab": {
          "base_uri": "https://localhost:8080/",
          "height": 295
        }
      },
      "source": [
        "X = datos.poblacion.values \n",
        "Y =datos.beneficio.values\n",
        "plt.scatter(X, Y)\n",
        "\n",
        "x = np.linspace(4.5, 24)\n",
        "y = theta[0] + theta[1] * x\n",
        "plt.plot(x, y, 'r')\n",
        "plt.xlabel('Poblacion')\n",
        "plt.ylabel('Beneficio')\n",
        "plt.title('Poblacion - Beneficio')\n",
        "plt.show()"
      ],
      "execution_count": 18,
      "outputs": [
        {
          "output_type": "display_data",
          "data": {
            "image/png": "[encoded data removed]",
            "text/plain": [
              "<Figure size 432x288 with 1 Axes>"
            ]
          },
          "metadata": {
            "tags": [],
            "needs_background": "light"
          }
        }
      ]
    }
  ]
}
