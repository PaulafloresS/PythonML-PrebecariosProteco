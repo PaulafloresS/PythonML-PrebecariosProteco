{
  "nbformat": 4,
  "nbformat_minor": 0,
  "metadata": {
    "colab": {
      "name": "clase5-ArbolDeClasificacion.ipynb",
      "provenance": [],
      "collapsed_sections": []
    },
    "kernelspec": {
      "name": "python3",
      "display_name": "Python 3"
    }
  },
  "cells": [
    {
      "cell_type": "markdown",
      "metadata": {
        "id": "ErOf1nEpcIhw",
        "colab_type": "text"
      },
      "source": [
        "#Arbol de Decisión\n",
        "Modelo de clasificación\n"
      ]
    },
    {
      "cell_type": "code",
      "metadata": {
        "id": "HxniKv-hcZCE",
        "colab_type": "code",
        "outputId": "329b1d66-0fe8-4b30-a33f-9cf8ca02447a",
        "colab": {
          "base_uri": "https://localhost:8080/",
          "height": 70
        }
      },
      "source": [
        "#Importamos lo necesario: numpy pandas\n",
        "import numpy as np\n",
        "import pandas as pd\n",
        "#Extras\n",
        "import seaborn as sns\n",
        "import random\n",
        "from pprint import pprint\n"
      ],
      "execution_count": 2,
      "outputs": [
        {
          "output_type": "stream",
          "text": [
            "/usr/local/lib/python3.6/dist-packages/statsmodels/tools/_testing.py:19: FutureWarning: pandas.util.testing is deprecated. Use the functions in the public API at pandas.testing instead.\n",
            "  import pandas.util.testing as tm\n"
          ],
          "name": "stderr"
        }
      ]
    },
    {
      "cell_type": "code",
      "metadata": {
        "id": "KRe0Xq__czzm",
        "colab_type": "code",
        "outputId": "5a3e6ee5-ee07-4893-c5da-63347e473e86",
        "colab": {
          "base_uri": "https://localhost:8080/",
          "height": 195
        }
      },
      "source": [
        "#Cargamos los datos de iris a partir de un csv\n",
        "datosIris = pd.read_csv(\"https://raw.githubusercontent.com/adrishg/PythonML-PrebecariosProteco/master/DataSets/iris.csv\")\n",
        "datosIris = datosIris.drop(\"Id\", axis=1)\n",
        "encabezadosDeColumnas =datosIris.columns.tolist()\n",
        "datosIris.head()"
      ],
      "execution_count": 3,
      "outputs": [
        {
          "output_type": "execute_result",
          "data": {
            "text/html": [
              "<div>\n",
              "<style scoped>\n",
              "    .dataframe tbody tr th:only-of-type {\n",
              "        vertical-align: middle;\n",
              "    }\n",
              "\n",
              "    .dataframe tbody tr th {\n",
              "        vertical-align: top;\n",
              "    }\n",
              "\n",
              "    .dataframe thead th {\n",
              "        text-align: right;\n",
              "    }\n",
              "</style>\n",
              "<table border=\"1\" class=\"dataframe\">\n",
              "  <thead>\n",
              "    <tr style=\"text-align: right;\">\n",
              "      <th></th>\n",
              "      <th>sepal_length</th>\n",
              "      <th>sepal_width</th>\n",
              "      <th>petal_length</th>\n",
              "      <th>petal_width</th>\n",
              "      <th>species</th>\n",
              "    </tr>\n",
              "  </thead>\n",
              "  <tbody>\n",
              "    <tr>\n",
              "      <th>0</th>\n",
              "      <td>5.1</td>\n",
              "      <td>3.5</td>\n",
              "      <td>1.4</td>\n",
              "      <td>0.2</td>\n",
              "      <td>Iris-setosa</td>\n",
              "    </tr>\n",
              "    <tr>\n",
              "      <th>1</th>\n",
              "      <td>4.9</td>\n",
              "      <td>3.0</td>\n",
              "      <td>1.4</td>\n",
              "      <td>0.2</td>\n",
              "      <td>Iris-setosa</td>\n",
              "    </tr>\n",
              "    <tr>\n",
              "      <th>2</th>\n",
              "      <td>4.7</td>\n",
              "      <td>3.2</td>\n",
              "      <td>1.3</td>\n",
              "      <td>0.2</td>\n",
              "      <td>Iris-setosa</td>\n",
              "    </tr>\n",
              "    <tr>\n",
              "      <th>3</th>\n",
              "      <td>4.6</td>\n",
              "      <td>3.1</td>\n",
              "      <td>1.5</td>\n",
              "      <td>0.2</td>\n",
              "      <td>Iris-setosa</td>\n",
              "    </tr>\n",
              "    <tr>\n",
              "      <th>4</th>\n",
              "      <td>5.0</td>\n",
              "      <td>3.6</td>\n",
              "      <td>1.4</td>\n",
              "      <td>0.2</td>\n",
              "      <td>Iris-setosa</td>\n",
              "    </tr>\n",
              "  </tbody>\n",
              "</table>\n",
              "</div>"
            ],
            "text/plain": [
              "   sepal_length  sepal_width  petal_length  petal_width      species\n",
              "0           5.1          3.5           1.4          0.2  Iris-setosa\n",
              "1           4.9          3.0           1.4          0.2  Iris-setosa\n",
              "2           4.7          3.2           1.3          0.2  Iris-setosa\n",
              "3           4.6          3.1           1.5          0.2  Iris-setosa\n",
              "4           5.0          3.6           1.4          0.2  Iris-setosa"
            ]
          },
          "metadata": {
            "tags": []
          },
          "execution_count": 3
        }
      ]
    },
    {
      "cell_type": "markdown",
      "metadata": {
        "id": "xqEynzrYQ76o",
        "colab_type": "text"
      },
      "source": [
        "Los árboles de decisión usan el algoritmo CART (Classification and Regression Tree) para poder hacer una regresión o una clasificación. \n",
        "\n",
        "Este algoritmo consiste en separar los datos en dos usando la mejor combinatoria de caracteristica *k* y valor númerico o umbral *t* que separe a los dos subárboles con mejor pureza (mejor gini y menor entropía)\n",
        "\n",
        "\n"
      ]
    },
    {
      "cell_type": "markdown",
      "metadata": {
        "id": "mgQw8YXMRtoq",
        "colab_type": "text"
      },
      "source": [
        "**Requerimientos**\n",
        "\n",
        "Para poder tener nuestro árbol de clasificación se considera que necesitaremos las siguientes funciones:\n",
        "\n",
        "  1) Cargar los datos\n",
        "\n",
        "  2) Función separe training set de test set\n",
        "\n",
        "  3) FuncionSepareLosDatosEn2\n",
        "\n",
        "  4) FuncionHagaCombinatoriasDeKyT\n",
        "\n",
        "  5) FuncionEvalueElGiniOPurezaOEntropía\n",
        "\n",
        "  6) ÁrbolDeDesición ← Función recursiva que ejecutará todas las funciones anteriores y generará dos subarboles a los cuales se les volverá a aplicar la misma función.\n",
        "  \n",
        "\n"
      ]
    },
    {
      "cell_type": "code",
      "metadata": {
        "id": "xiqa7IqZduoP",
        "colab_type": "code",
        "colab": {}
      },
      "source": [
        "#Creamos una función que nos separe los datos completos en dos \n",
        "#subsets uno para entrenamiento y uno para test\n",
        "def separacionDatosTesteo(datosIris, tamanioTest=0.2):\n",
        "  if isinstance(tamanioTest, float):\n",
        "    tamanioTest = round(tamanioTest * len(datosIris))\n",
        "\n",
        "  indices = datosIris.index.tolist()\n",
        "  testIndices = random.sample(population=indices, k=tamanioTest)\n",
        "\n",
        "  datosTesteo = datosIris.loc[testIndices]\n",
        "  datosEntrenamiento = datosIris.drop(testIndices)\n",
        "\n",
        "  return datosEntrenamiento, datosTesteo"
      ],
      "execution_count": 0,
      "outputs": []
    },
    {
      "cell_type": "code",
      "metadata": {
        "id": "ulSPKTO7fStH",
        "colab_type": "code",
        "colab": {}
      },
      "source": [
        "#Separamos nuestros datos con la función declarada arriba \n",
        "datosEntrenamiento, datosTesteo = separacionDatosTesteo(datosIris)"
      ],
      "execution_count": 0,
      "outputs": []
    },
    {
      "cell_type": "code",
      "metadata": {
        "id": "-nV4A_UhfIiI",
        "colab_type": "code",
        "outputId": "88409707-b927-409c-d152-94e34384bef5",
        "colab": {
          "base_uri": "https://localhost:8080/",
          "height": 1000
        }
      },
      "source": [
        "#Definimos data como los valores de los datos de Entrenamiento\n",
        "data= datosEntrenamiento.values\n",
        "data"
      ],
      "execution_count": 6,
      "outputs": [
        {
          "output_type": "execute_result",
          "data": {
            "text/plain": [
              "array([[4.7, 3.2, 1.3, 0.2, 'Iris-setosa'],\n",
              "       [4.6, 3.1, 1.5, 0.2, 'Iris-setosa'],\n",
              "       [5.0, 3.6, 1.4, 0.2, 'Iris-setosa'],\n",
              "       [5.4, 3.9, 1.7, 0.4, 'Iris-setosa'],\n",
              "       [4.6, 3.4, 1.4, 0.3, 'Iris-setosa'],\n",
              "       [5.0, 3.4, 1.5, 0.2, 'Iris-setosa'],\n",
              "       [4.4, 2.9, 1.4, 0.2, 'Iris-setosa'],\n",
              "       [4.9, 3.1, 1.5, 0.1, 'Iris-setosa'],\n",
              "       [5.4, 3.7, 1.5, 0.2, 'Iris-setosa'],\n",
              "       [4.8, 3.4, 1.6, 0.2, 'Iris-setosa'],\n",
              "       [4.8, 3.0, 1.4, 0.1, 'Iris-setosa'],\n",
              "       [5.8, 4.0, 1.2, 0.2, 'Iris-setosa'],\n",
              "       [5.7, 4.4, 1.5, 0.4, 'Iris-setosa'],\n",
              "       [5.4, 3.9, 1.3, 0.4, 'Iris-setosa'],\n",
              "       [5.1, 3.5, 1.4, 0.3, 'Iris-setosa'],\n",
              "       [5.1, 3.8, 1.5, 0.3, 'Iris-setosa'],\n",
              "       [5.4, 3.4, 1.7, 0.2, 'Iris-setosa'],\n",
              "       [5.1, 3.7, 1.5, 0.4, 'Iris-setosa'],\n",
              "       [5.1, 3.3, 1.7, 0.5, 'Iris-setosa'],\n",
              "       [4.8, 3.4, 1.9, 0.2, 'Iris-setosa'],\n",
              "       [5.0, 3.0, 1.6, 0.2, 'Iris-setosa'],\n",
              "       [5.2, 3.5, 1.5, 0.2, 'Iris-setosa'],\n",
              "       [5.2, 3.4, 1.4, 0.2, 'Iris-setosa'],\n",
              "       [4.7, 3.2, 1.6, 0.2, 'Iris-setosa'],\n",
              "       [4.8, 3.1, 1.6, 0.2, 'Iris-setosa'],\n",
              "       [5.4, 3.4, 1.5, 0.4, 'Iris-setosa'],\n",
              "       [4.9, 3.1, 1.5, 0.1, 'Iris-setosa'],\n",
              "       [5.0, 3.2, 1.2, 0.2, 'Iris-setosa'],\n",
              "       [5.5, 3.5, 1.3, 0.2, 'Iris-setosa'],\n",
              "       [4.9, 3.1, 1.5, 0.1, 'Iris-setosa'],\n",
              "       [4.4, 3.0, 1.3, 0.2, 'Iris-setosa'],\n",
              "       [5.1, 3.4, 1.5, 0.2, 'Iris-setosa'],\n",
              "       [5.0, 3.5, 1.3, 0.3, 'Iris-setosa'],\n",
              "       [4.5, 2.3, 1.3, 0.3, 'Iris-setosa'],\n",
              "       [4.4, 3.2, 1.3, 0.2, 'Iris-setosa'],\n",
              "       [5.0, 3.5, 1.6, 0.6, 'Iris-setosa'],\n",
              "       [5.1, 3.8, 1.9, 0.4, 'Iris-setosa'],\n",
              "       [4.8, 3.0, 1.4, 0.3, 'Iris-setosa'],\n",
              "       [5.3, 3.7, 1.5, 0.2, 'Iris-setosa'],\n",
              "       [5.0, 3.3, 1.4, 0.2, 'Iris-setosa'],\n",
              "       [7.0, 3.2, 4.7, 1.4, 'Iris-versicolor'],\n",
              "       [6.4, 3.2, 4.5, 1.5, 'Iris-versicolor'],\n",
              "       [5.5, 2.3, 4.0, 1.3, 'Iris-versicolor'],\n",
              "       [6.5, 2.8, 4.6, 1.5, 'Iris-versicolor'],\n",
              "       [5.7, 2.8, 4.5, 1.3, 'Iris-versicolor'],\n",
              "       [6.3, 3.3, 4.7, 1.6, 'Iris-versicolor'],\n",
              "       [6.6, 2.9, 4.6, 1.3, 'Iris-versicolor'],\n",
              "       [5.0, 2.0, 3.5, 1.0, 'Iris-versicolor'],\n",
              "       [6.0, 2.2, 4.0, 1.0, 'Iris-versicolor'],\n",
              "       [6.1, 2.9, 4.7, 1.4, 'Iris-versicolor'],\n",
              "       [5.6, 2.9, 3.6, 1.3, 'Iris-versicolor'],\n",
              "       [6.7, 3.1, 4.4, 1.4, 'Iris-versicolor'],\n",
              "       [5.6, 3.0, 4.5, 1.5, 'Iris-versicolor'],\n",
              "       [6.2, 2.2, 4.5, 1.5, 'Iris-versicolor'],\n",
              "       [5.6, 2.5, 3.9, 1.1, 'Iris-versicolor'],\n",
              "       [5.9, 3.2, 4.8, 1.8, 'Iris-versicolor'],\n",
              "       [6.1, 2.8, 4.0, 1.3, 'Iris-versicolor'],\n",
              "       [6.3, 2.5, 4.9, 1.5, 'Iris-versicolor'],\n",
              "       [6.1, 2.8, 4.7, 1.2, 'Iris-versicolor'],\n",
              "       [6.4, 2.9, 4.3, 1.3, 'Iris-versicolor'],\n",
              "       [6.6, 3.0, 4.4, 1.4, 'Iris-versicolor'],\n",
              "       [6.8, 2.8, 4.8, 1.4, 'Iris-versicolor'],\n",
              "       [6.7, 3.0, 5.0, 1.7, 'Iris-versicolor'],\n",
              "       [6.0, 2.9, 4.5, 1.5, 'Iris-versicolor'],\n",
              "       [5.7, 2.6, 3.5, 1.0, 'Iris-versicolor'],\n",
              "       [5.5, 2.4, 3.8, 1.1, 'Iris-versicolor'],\n",
              "       [5.5, 2.4, 3.7, 1.0, 'Iris-versicolor'],\n",
              "       [5.8, 2.7, 3.9, 1.2, 'Iris-versicolor'],\n",
              "       [5.4, 3.0, 4.5, 1.5, 'Iris-versicolor'],\n",
              "       [6.0, 3.4, 4.5, 1.6, 'Iris-versicolor'],\n",
              "       [6.7, 3.1, 4.7, 1.5, 'Iris-versicolor'],\n",
              "       [6.3, 2.3, 4.4, 1.3, 'Iris-versicolor'],\n",
              "       [5.6, 3.0, 4.1, 1.3, 'Iris-versicolor'],\n",
              "       [5.5, 2.5, 4.0, 1.3, 'Iris-versicolor'],\n",
              "       [5.5, 2.6, 4.4, 1.2, 'Iris-versicolor'],\n",
              "       [6.1, 3.0, 4.6, 1.4, 'Iris-versicolor'],\n",
              "       [5.8, 2.6, 4.0, 1.2, 'Iris-versicolor'],\n",
              "       [5.0, 2.3, 3.3, 1.0, 'Iris-versicolor'],\n",
              "       [5.7, 3.0, 4.2, 1.2, 'Iris-versicolor'],\n",
              "       [5.7, 2.9, 4.2, 1.3, 'Iris-versicolor'],\n",
              "       [6.2, 2.9, 4.3, 1.3, 'Iris-versicolor'],\n",
              "       [5.1, 2.5, 3.0, 1.1, 'Iris-versicolor'],\n",
              "       [5.7, 2.8, 4.1, 1.3, 'Iris-versicolor'],\n",
              "       [6.3, 3.3, 6.0, 2.5, 'Iris-virginica'],\n",
              "       [6.3, 2.9, 5.6, 1.8, 'Iris-virginica'],\n",
              "       [6.5, 3.0, 5.8, 2.2, 'Iris-virginica'],\n",
              "       [4.9, 2.5, 4.5, 1.7, 'Iris-virginica'],\n",
              "       [7.3, 2.9, 6.3, 1.8, 'Iris-virginica'],\n",
              "       [6.5, 3.2, 5.1, 2.0, 'Iris-virginica'],\n",
              "       [6.4, 2.7, 5.3, 1.9, 'Iris-virginica'],\n",
              "       [6.8, 3.0, 5.5, 2.1, 'Iris-virginica'],\n",
              "       [5.8, 2.8, 5.1, 2.4, 'Iris-virginica'],\n",
              "       [6.4, 3.2, 5.3, 2.3, 'Iris-virginica'],\n",
              "       [7.7, 3.8, 6.7, 2.2, 'Iris-virginica'],\n",
              "       [7.7, 2.6, 6.9, 2.3, 'Iris-virginica'],\n",
              "       [6.0, 2.2, 5.0, 1.5, 'Iris-virginica'],\n",
              "       [6.9, 3.2, 5.7, 2.3, 'Iris-virginica'],\n",
              "       [5.6, 2.8, 4.9, 2.0, 'Iris-virginica'],\n",
              "       [7.7, 2.8, 6.7, 2.0, 'Iris-virginica'],\n",
              "       [7.2, 3.2, 6.0, 1.8, 'Iris-virginica'],\n",
              "       [6.2, 2.8, 4.8, 1.8, 'Iris-virginica'],\n",
              "       [6.1, 3.0, 4.9, 1.8, 'Iris-virginica'],\n",
              "       [7.2, 3.0, 5.8, 1.6, 'Iris-virginica'],\n",
              "       [7.9, 3.8, 6.4, 2.0, 'Iris-virginica'],\n",
              "       [6.4, 2.8, 5.6, 2.2, 'Iris-virginica'],\n",
              "       [6.3, 2.8, 5.1, 1.5, 'Iris-virginica'],\n",
              "       [6.3, 3.4, 5.6, 2.4, 'Iris-virginica'],\n",
              "       [6.4, 3.1, 5.5, 1.8, 'Iris-virginica'],\n",
              "       [6.0, 3.0, 4.8, 1.8, 'Iris-virginica'],\n",
              "       [6.9, 3.1, 5.4, 2.1, 'Iris-virginica'],\n",
              "       [6.7, 3.1, 5.6, 2.4, 'Iris-virginica'],\n",
              "       [6.9, 3.1, 5.1, 2.3, 'Iris-virginica'],\n",
              "       [5.8, 2.7, 5.1, 1.9, 'Iris-virginica'],\n",
              "       [6.8, 3.2, 5.9, 2.3, 'Iris-virginica'],\n",
              "       [6.7, 3.3, 5.7, 2.5, 'Iris-virginica'],\n",
              "       [6.7, 3.0, 5.2, 2.3, 'Iris-virginica'],\n",
              "       [6.3, 2.5, 5.0, 1.9, 'Iris-virginica'],\n",
              "       [6.5, 3.0, 5.2, 2.0, 'Iris-virginica'],\n",
              "       [6.2, 3.4, 5.4, 2.3, 'Iris-virginica'],\n",
              "       [5.9, 3.0, 5.1, 1.8, 'Iris-virginica']], dtype=object)"
            ]
          },
          "metadata": {
            "tags": []
          },
          "execution_count": 6
        }
      ]
    },
    {
      "cell_type": "markdown",
      "metadata": {
        "id": "2K6G9Eadhje6",
        "colab_type": "text"
      },
      "source": [
        "Friendly reminder: Entropía o gini = 0 implica pureza.\n",
        "\n"
      ]
    },
    {
      "cell_type": "code",
      "metadata": {
        "id": "6_dfLdnjgxoP",
        "colab_type": "code",
        "outputId": "92d43b6b-1893-4ca1-f881-975622fff292",
        "colab": {
          "base_uri": "https://localhost:8080/",
          "height": 34
        }
      },
      "source": [
        "#Hacemos una función que nos verifique y regrese un True si nuestros datos están puros\n",
        "def calcularPureza(datos):\n",
        "  etiquetas=datos[:,-1] #Recuperamos etiquetas del dataset\n",
        "  etiquetasUnicas = np.unique(etiquetas) #Obtenemos las etiquetas únicas que hay\n",
        "  if len(etiquetasUnicas)==1:  #Sí sólo hay una etiqueta (es puro)\n",
        "    return True\n",
        "  else:\n",
        "    return False\n",
        "\n",
        "calcularPureza(data) #Calculamos la pureza inicial de todos los datos (Falso porque son 3 etiquetas)"
      ],
      "execution_count": 7,
      "outputs": [
        {
          "output_type": "execute_result",
          "data": {
            "text/plain": [
              "False"
            ]
          },
          "metadata": {
            "tags": []
          },
          "execution_count": 7
        }
      ]
    },
    {
      "cell_type": "code",
      "metadata": {
        "id": "perxWQO3htEO",
        "colab_type": "code",
        "colab": {}
      },
      "source": [
        " #Obtiene las etiquetas que hay en el datset, una ventaja de los árboles de decisión es que no sólo clasifican dos grupos como en la regresión logística\n",
        "def clasificarDatos(data):\n",
        "  etiquetas=data[:,-1] \n",
        "  etiquetasUnicas, cuentaDeEtiquetasUnicas= np.unique(etiquetas, return_counts=True)\n",
        "\n",
        "  index= cuentaDeEtiquetasUnicas.argmax()\n",
        "  clasificacion = etiquetasUnicas[index]\n",
        "\n",
        "  return clasificacion"
      ],
      "execution_count": 0,
      "outputs": []
    },
    {
      "cell_type": "code",
      "metadata": {
        "id": "nM8_EtOoi3fN",
        "colab_type": "code",
        "colab": {}
      },
      "source": [
        "#Las medidas de ancho y largo de pétalos/sépalos es un valor continuo entonteces para encontrar los valores t posibles \n",
        "#usaremos la función Separaciones posibles que toma los valores  los ordena de mayot a menor tomando en cuentas las etiquetas y promedialos valores\n",
        "def separacionesPosibles(data):\n",
        "  separaciones= {}\n",
        "  x, numeroDeColumnas= data.shape\n",
        "\n",
        "  for i in range(numeroDeColumnas -1):\n",
        "    separaciones[i] = []\n",
        "    valores = data[:,i]\n",
        "    valoresUnicos = np.unique(valores)\n",
        "\n",
        "    for indice in range(len(valoresUnicos)):\n",
        "      if indice !=  0:\n",
        "        valorActual= valoresUnicos[indice]\n",
        "        valorAnterior =valoresUnicos[indice-1]\n",
        "        separacionPosible =(valorActual + valorAnterior)/2\n",
        "\n",
        "        separaciones[i].append(separacionPosible)\n",
        "  return separaciones\n",
        "\n",
        "#separacionesPosibles(data)\n"
      ],
      "execution_count": 0,
      "outputs": []
    },
    {
      "cell_type": "code",
      "metadata": {
        "id": "8_IRFEwHpkQ0",
        "colab_type": "code",
        "colab": {}
      },
      "source": [
        "#Esta función separa los datos\n",
        "def separarDatos(data, separadorColumna, separadorValor):\n",
        "  separarValoresColumnas= data[:,separadorColumna]\n",
        "  datosAbajo= data[separarValoresColumnas <= separadorValor]\n",
        "  datosArriba= data[separarValoresColumnas> separadorValor]\n",
        "\n",
        "  return datosAbajo, datosArriba"
      ],
      "execution_count": 0,
      "outputs": []
    },
    {
      "cell_type": "code",
      "metadata": {
        "id": "1KZUo9yhmwqn",
        "colab_type": "code",
        "colab": {}
      },
      "source": [
        "#En este caso usaremos la entropía como metrica, es inversa a la pureza entonces queremos minimizarla\n",
        "def calcularEntropia(datos):\n",
        "  etiquetas=datos[:,-1]\n",
        "  x, cuenta= np.unique(etiquetas, return_counts=True)\n",
        "  probabilidad= cuenta/cuenta.sum()\n",
        "  entropia= sum(probabilidad* -np.log2(probabilidad))\n",
        "\n",
        "  return entropia"
      ],
      "execution_count": 0,
      "outputs": []
    },
    {
      "cell_type": "code",
      "metadata": {
        "id": "5SbyF_EtpX_M",
        "colab_type": "code",
        "colab": {}
      },
      "source": [
        "def calcularEntropiaTotal(datosArriba, datosAbajo):\n",
        "  n= len(datosArriba)+len(datosAbajo)\n",
        "  proporcionArriba= len(datosArriba)/n\n",
        "  proporcionAbajo= len(datosAbajo)/n\n",
        "\n",
        "  entropiaTotal= (proporcionAbajo*calcularEntropia(datosAbajo)+ proporcionArriba* calcularEntropia(datosArriba))\n",
        "  return entropiaTotal"
      ],
      "execution_count": 0,
      "outputs": []
    },
    {
      "cell_type": "code",
      "metadata": {
        "id": "Fm3ttm1RrQyd",
        "colab_type": "code",
        "colab": {}
      },
      "source": [
        "#Para minimizar la entropía evaluamos que caracteristica k y cuál umbral t nos dan la menor entropía\n",
        "def mejorSeparacion(data, separaciones):\n",
        "  #print(np.array([np.array(i) for i in separaciones.values()]))\n",
        "  mejorSeparacion, mejorColumna= 0,0\n",
        "  entropia= calcularEntropiaTotal(*separarDatos(data, separadorColumna=0, separadorValor=0))\n",
        "  for i in separaciones:\n",
        "    for valor in separaciones[i]:\n",
        "      datosAbajo, datosArriba = separarDatos(data, separadorColumna=i, separadorValor=valor)\n",
        "      entropiaActualTotal= calcularEntropiaTotal(datosArriba, datosAbajo)\n",
        "      if entropiaActualTotal < entropia:\n",
        "        entropia= entropiaActualTotal\n",
        "        mejorColumna= i\n",
        "        mejorValorDeSeparacion= valor\n",
        "  return mejorColumna, mejorValorDeSeparacion"
      ],
      "execution_count": 0,
      "outputs": []
    },
    {
      "cell_type": "code",
      "metadata": {
        "id": "3X_VLR8d05Gv",
        "colab_type": "code",
        "colab": {}
      },
      "source": [
        "#Finalmente llegamos a la función de arbolDeDecision. \n",
        "#Piensen en esto como su programa main qué manda llamar a las demás funciones \n",
        "#Recuerden que será recursiva porque dentro de ella se manda llamar a si misma para los dos subarboles generados\n",
        "def arbolDeDecision(data, contador=0, minMuestras=2, profundidadMaxima=4):\n",
        "  datosIris= data\n",
        "  #Para la recursividad necesitamos un caso base en este caso tomamos en cuenta 3 posible\n",
        "  #1)Si la función pureza regresa un True\n",
        "  #2) Sí el numero de muestras es menor a mínimo de muestras (Por default 2)\n",
        "  #3) Que la profundidad del árbol llegue a la profundidad máxima (Por default 4)\n",
        "  if(calcularPureza(data)) or (len(data)< minMuestras) or (contador== profundidadMaxima):\n",
        "    clasificacion= clasificarDatos(data)\n",
        "    return clasificacion\n",
        "  else:\n",
        "    contador +=1\n",
        "\n",
        "    separaciones = separacionesPosibles(datosIris)\n",
        "    mejorColumna , mejorValorDeSeparacion = mejorSeparacion(datosIris, separaciones)\n",
        "    datosAbajo, datosArriba = separarDatos(datosIris, mejorColumna, mejorValorDeSeparacion)\n",
        "    \n",
        "    #El árbol estará representado por un diccionario anidado.\n",
        "    pregunta =\"{} <= {}\".format(encabezadosDeColumnas[mejorColumna],mejorValorDeSeparacion)\n",
        "    subArbol={ pregunta: []}\n",
        "\n",
        "    si = arbolDeDecision(datosAbajo, contador,minMuestras, profundidadMaxima)\n",
        "    no = arbolDeDecision(datosArriba, contador, minMuestras, profundidadMaxima)\n",
        "\n",
        "    if si==no:\n",
        "      subArbol= si\n",
        "    else:\n",
        "      subArbol[pregunta].append(si)\n",
        "      subArbol[pregunta].append(no)\n",
        "    return subArbol"
      ],
      "execution_count": 0,
      "outputs": []
    },
    {
      "cell_type": "code",
      "metadata": {
        "id": "asyVfJi-ARDO",
        "colab_type": "code",
        "outputId": "3f2690ee-1620-4561-b362-4e479a209380",
        "colab": {
          "base_uri": "https://localhost:8080/",
          "height": 138
        }
      },
      "source": [
        "arbol = arbolDeDecision(data)\n",
        "pprint(arbol)"
      ],
      "execution_count": 15,
      "outputs": [
        {
          "output_type": "stream",
          "text": [
            "{'petal_length <= 2.45': ['Iris-setosa',\n",
            "                          {'petal_length <= 4.75': [{'sepal_length <= 4.95': ['Iris-virginica',\n",
            "                                                                              'Iris-versicolor']},\n",
            "                                                    {'petal_length <= 5.05': [{'sepal_length <= 6.5': ['Iris-virginica',\n",
            "                                                                                                       'Iris-versicolor']},\n",
            "                                                                              'Iris-virginica']}]}]}\n"
          ],
          "name": "stdout"
        }
      ]
    },
    {
      "cell_type": "code",
      "metadata": {
        "id": "JmYW3ili9LTW",
        "colab_type": "code",
        "outputId": "bf632521-852a-488b-f79a-a94b82f098dc",
        "colab": {
          "base_uri": "https://localhost:8080/",
          "height": 118
        }
      },
      "source": [
        "#Tomamos uno de los datos de testeo\n",
        "ejemplo = datosTesteo.iloc[0]\n",
        "ejemplo"
      ],
      "execution_count": 16,
      "outputs": [
        {
          "output_type": "execute_result",
          "data": {
            "text/plain": [
              "sepal_length               6.1\n",
              "sepal_width                2.6\n",
              "petal_length               5.6\n",
              "petal_width                1.4\n",
              "species         Iris-virginica\n",
              "Name: 134, dtype: object"
            ]
          },
          "metadata": {
            "tags": []
          },
          "execution_count": 16
        }
      ]
    },
    {
      "cell_type": "code",
      "metadata": {
        "id": "e1u5taWDKQe8",
        "colab_type": "code",
        "outputId": "df7d6226-2e49-4552-94b8-76a2d0cc6d3b",
        "colab": {
          "base_uri": "https://localhost:8080/",
          "height": 118
        }
      },
      "source": [
        "ejemplo"
      ],
      "execution_count": 17,
      "outputs": [
        {
          "output_type": "execute_result",
          "data": {
            "text/plain": [
              "sepal_length               6.1\n",
              "sepal_width                2.6\n",
              "petal_length               5.6\n",
              "petal_width                1.4\n",
              "species         Iris-virginica\n",
              "Name: 134, dtype: object"
            ]
          },
          "metadata": {
            "tags": []
          },
          "execution_count": 17
        }
      ]
    },
    {
      "cell_type": "code",
      "metadata": {
        "id": "wONFXCZR_mOU",
        "colab_type": "code",
        "outputId": "4f2db3e9-09c7-4c32-b800-c5f705a7cce2",
        "colab": {
          "base_uri": "https://localhost:8080/",
          "height": 34
        }
      },
      "source": [
        "#Los datos lo pasamos a un diccionario\n",
        "ejemplito= {'sepal_length': ejemplo[0], 'sepal_width': ejemplo[1], \n",
        "            'petal_length': ejemplo[2],'petal_width': ejemplo[3], \n",
        "            'species': ejemplo[4]}\n",
        "print(ejemplito)"
      ],
      "execution_count": 18,
      "outputs": [
        {
          "output_type": "stream",
          "text": [
            "{'sepal_length': 6.1, 'sepal_width': 2.6, 'petal_length': 5.6, 'petal_width': 1.4, 'species': 'Iris-virginica'}\n"
          ],
          "name": "stdout"
        }
      ]
    },
    {
      "cell_type": "code",
      "metadata": {
        "id": "H6FXY9kN9Z0t",
        "colab_type": "code",
        "outputId": "ab3ef213-e0e8-4809-e8e6-d7fb875c596f",
        "colab": {
          "base_uri": "https://localhost:8080/",
          "height": 34
        }
      },
      "source": [
        "#Ahora intentaremos hacer que una predicción a partir de nuestro modelo.\n",
        "def ejemploClasificacion(ejemplo, arbol):\n",
        "  pregunta= list(arbol.keys())[0]\n",
        "  nombreCaracteristica, operador, valor = pregunta.split(\" \")\n",
        "  if ejemplo[nombreCaracteristica] <= float(valor):\n",
        "    respuesta= arbol[pregunta][0]\n",
        "  else:\n",
        "    respuesta= arbol[pregunta][1]\n",
        "\n",
        "  if not isinstance(respuesta, dict):\n",
        "    return respuesta\n",
        "  else:\n",
        "    restoDelArbol = respuesta\n",
        "    return ejemploClasificacion(ejemplo, restoDelArbol)\n",
        "\n",
        "ejemploClasificacion(ejemplito, arbol)"
      ],
      "execution_count": 19,
      "outputs": [
        {
          "output_type": "execute_result",
          "data": {
            "text/plain": [
              "'Iris-virginica'"
            ]
          },
          "metadata": {
            "tags": []
          },
          "execution_count": 19
        }
      ]
    },
    {
      "cell_type": "code",
      "metadata": {
        "id": "1h8R5QJzLQNW",
        "colab_type": "code",
        "colab": {}
      },
      "source": [
        ""
      ],
      "execution_count": 0,
      "outputs": []
    }
  ]
}