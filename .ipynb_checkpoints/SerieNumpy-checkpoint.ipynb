{
 "cells": [
  {
   "cell_type": "markdown",
   "metadata": {},
   "source": [
    "## Serie Numpy \n",
    "\n",
    "Está es la primera de 3 series de módulos científicos.\n",
    "\n",
    "Las indicaciones son editar este archivo, deben subir a classroom el ipynb y generar un pdf de el mismo recuerden que TODAS LAS CASILLLAS DEBEN ESTAR EJECUTADAS.\n",
    "\n",
    "Saludos."
   ]
  },
  {
   "cell_type": "code",
   "execution_count": 3,
   "metadata": {},
   "outputs": [],
   "source": [
    "import numpy as np"
   ]
  },
  {
   "cell_type": "markdown",
   "metadata": {},
   "source": [
    "1) Crea un array de sietes cuyo atributo shape sea (10,3,2)"
   ]
  },
  {
   "cell_type": "code",
   "execution_count": 24,
   "metadata": {},
   "outputs": [
    {
     "name": "stdout",
     "output_type": "stream",
     "text": [
      "opcion1:  [[[7. 7.]\n",
      "  [7. 7.]\n",
      "  [7. 7.]]\n",
      "\n",
      " [[7. 7.]\n",
      "  [7. 7.]\n",
      "  [7. 7.]]\n",
      "\n",
      " [[7. 7.]\n",
      "  [7. 7.]\n",
      "  [7. 7.]]\n",
      "\n",
      " [[7. 7.]\n",
      "  [7. 7.]\n",
      "  [7. 7.]]\n",
      "\n",
      " [[7. 7.]\n",
      "  [7. 7.]\n",
      "  [7. 7.]]\n",
      "\n",
      " [[7. 7.]\n",
      "  [7. 7.]\n",
      "  [7. 7.]]\n",
      "\n",
      " [[7. 7.]\n",
      "  [7. 7.]\n",
      "  [7. 7.]]\n",
      "\n",
      " [[7. 7.]\n",
      "  [7. 7.]\n",
      "  [7. 7.]]\n",
      "\n",
      " [[7. 7.]\n",
      "  [7. 7.]\n",
      "  [7. 7.]]\n",
      "\n",
      " [[7. 7.]\n",
      "  [7. 7.]\n",
      "  [7. 7.]]]\n",
      "opcion2:  [[7 7 7]\n",
      " [7 7 7]\n",
      " [7 7 7]\n",
      " [7 7 7]\n",
      " [7 7 7]]\n"
     ]
    }
   ],
   "source": [
    "#Opción uno:\n",
    "opcion1= np.ones((10,3,2))*7\n",
    "print(\"opcion1: \",opcion1)\n",
    "#Opción dos\n",
    "print(\"opcion2: \",opcion2)\n",
    "opcion2= np.full((10,3,2),7)"
   ]
  },
  {
   "cell_type": "markdown",
   "metadata": {},
   "source": [
    "2) De dicho array despliga cual es su dimensión, tamaño del arreglo, tamaño un sólo elemento y tipo de dato de los elementos del arreglo."
   ]
  },
  {
   "cell_type": "code",
   "execution_count": 25,
   "metadata": {},
   "outputs": [
    {
     "data": {
      "text/plain": [
       "8"
      ]
     },
     "execution_count": 25,
     "metadata": {},
     "output_type": "execute_result"
    }
   ],
   "source": [
    "opcion1.ndim\n",
    "opcion1.shape\n",
    "opcion1.dtype\n",
    "opcion1.itemsize"
   ]
  },
  {
   "cell_type": "markdown",
   "metadata": {},
   "source": [
    "3) Crea los siguientes vectores usando funciones de numpy \n",
    "\n",
    "        a) Enteros del 0 al 9: \n",
    "        b) 20 valores entre el 1 y 10 espaciados uniformemente: \n",
    "        c) Enteros del 1 al 10: \n",
    "        d) Enteros del 5 al 100 con incrementos de 5 en 5: "
   ]
  },
  {
   "cell_type": "code",
   "execution_count": 13,
   "metadata": {},
   "outputs": [
    {
     "name": "stdout",
     "output_type": "stream",
     "text": [
      "[  5  10  15  20  25  30  35  40  45  50  55  60  65  70  75  80  85  90\n",
      "  95 100]\n"
     ]
    }
   ],
   "source": [
    "d= np.arange(5,101,5)\n",
    "print(d)"
   ]
  },
  {
   "cell_type": "markdown",
   "metadata": {},
   "source": [
    "4) Usaremos el vector del inciso d, despliega:\n",
    "       \n",
    "       a) Todos los elementos menos el primero\n",
    "       b) Todos los elementos menos el último\n",
    "       c) Todos los elementos en sentido inverso\n",
    "       d) Un elemento sí y un elemento no\n",
    "       e) Elemento número 15"
   ]
  },
  {
   "cell_type": "code",
   "execution_count": 23,
   "metadata": {},
   "outputs": [
    {
     "name": "stdout",
     "output_type": "stream",
     "text": [
      "[ 10  15  20  25  30  35  40  45  50  55  60  65  70  75  80  85  90  95\n",
      " 100]\n",
      "[ 5 10 15 20 25 30 35 40 45 50 55 60 65 70 75 80 85 90 95]\n",
      "[100  95  90  85  80  75  70  65  60  55  50  45  40  35  30  25  20  15\n",
      "  10   5]\n",
      "[ 5 15 25 35 45 55 65 75 85 95]\n"
     ]
    }
   ],
   "source": [
    "inciso_a= print(d[1:])\n",
    "inciso_b= print(d[:-1])\n",
    "inciso_c= print(d[-1::-1])\n",
    "inciso_d= print(d[::2])"
   ]
  },
  {
   "cell_type": "markdown",
   "metadata": {},
   "source": [
    "5) Haz un vector de número aleatorios entre 0 y 1"
   ]
  },
  {
   "cell_type": "code",
   "execution_count": 28,
   "metadata": {},
   "outputs": [
    {
     "data": {
      "text/plain": [
       "array([[0.36975421, 0.83483647, 0.99821352, 0.80291513, 0.78695142,\n",
       "        0.94293263, 0.07617118, 0.27647412, 0.33770154, 0.05096127]])"
      ]
     },
     "execution_count": 28,
     "metadata": {},
     "output_type": "execute_result"
    }
   ],
   "source": [
    "np.random.rand(1,10)"
   ]
  },
  {
   "cell_type": "markdown",
   "metadata": {},
   "source": [
    "6) "
   ]
  },
  {
   "cell_type": "code",
   "execution_count": null,
   "metadata": {},
   "outputs": [],
   "source": []
  },
  {
   "cell_type": "code",
   "execution_count": null,
   "metadata": {},
   "outputs": [],
   "source": []
  }
 ],
 "metadata": {
  "kernelspec": {
   "display_name": "Python 3",
   "language": "python",
   "name": "python3"
  },
  "language_info": {
   "codemirror_mode": {
    "name": "ipython",
    "version": 3
   },
   "file_extension": ".py",
   "mimetype": "text/x-python",
   "name": "python",
   "nbconvert_exporter": "python",
   "pygments_lexer": "ipython3",
   "version": "3.7.3"
  }
 },
 "nbformat": 4,
 "nbformat_minor": 2
}
