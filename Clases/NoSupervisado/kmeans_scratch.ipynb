{
  "nbformat": 4,
  "nbformat_minor": 0,
  "metadata": {
    "colab": {
      "name": "kmeans_scratch.ipynb",
      "provenance": [],
      "collapsed_sections": []
    },
    "kernelspec": {
      "name": "python3",
      "display_name": "Python 3"
    }
  },
  "cells": [
    {
      "cell_type": "code",
      "metadata": {
        "id": "RAuLz73PZrs0",
        "colab_type": "code",
        "colab": {}
      },
      "source": [
        "import pandas as pd\n",
        "import numpy as np \n",
        "import matplotlib.pyplot as plt"
      ],
      "execution_count": 0,
      "outputs": []
    },
    {
      "cell_type": "markdown",
      "metadata": {
        "id": "rmL2BEjVp9Xr",
        "colab_type": "text"
      },
      "source": [
        "#Aprendizaje no supervisado\n",
        "Encontrar un patrón dentro de datos sin etiqueta\n",
        "\n",
        "**Kmean**: \n",
        "\n",
        "Es un algoritmo de agrupamiento cuyo propósito es separar n observaciones en k clusters. Cada observación pertenece al grupo cuyo valor medio sea el más acercado.Agrupa el conjunto de datos según su media.\n",
        "\n"
      ]
    },
    {
      "cell_type": "markdown",
      "metadata": {
        "id": "9Hlbvu_OwGBR",
        "colab_type": "text"
      },
      "source": [
        "El algoritmo tiene tres pasos/fases:\n",
        "\n",
        "\n",
        "● Fase de creación: se crean k puntos (cluster centroids) en el espacio dado por el conjunto de entrada (el tamaño de cada muestra) con coordenadas al azar.\n",
        "\n",
        "● Asignación de Clases: Las muestras se asignan a el centroide más cercano.\n",
        "\n",
        "● Movimiento del Centroide: Se halla la media de cada conjunto de muestras asignadas a cada centroide, y se asigna las coordenadas del centroide.\n"
      ]
    },
    {
      "cell_type": "code",
      "metadata": {
        "id": "jR9WB0v_Z5N-",
        "colab_type": "code",
        "colab": {}
      },
      "source": [
        "from copy import deepcopy\n",
        "from numpy.linalg import norm"
      ],
      "execution_count": 0,
      "outputs": []
    },
    {
      "cell_type": "code",
      "metadata": {
        "id": "zpM76_3IaEup",
        "colab_type": "code",
        "outputId": "de93ab33-dedc-453c-d3fd-0df27fe6a1a0",
        "colab": {
          "base_uri": "https://localhost:8080/",
          "height": 195
        }
      },
      "source": [
        "data = pd.read_csv('https://raw.githubusercontent.com/adrishg/PythonML-PrebecariosProteco/master/DataSets/kmeans.csv', header = 0)\n",
        "data.head()"
      ],
      "execution_count": 0,
      "outputs": [
        {
          "output_type": "execute_result",
          "data": {
            "text/html": [
              "<div>\n",
              "<style scoped>\n",
              "    .dataframe tbody tr th:only-of-type {\n",
              "        vertical-align: middle;\n",
              "    }\n",
              "\n",
              "    .dataframe tbody tr th {\n",
              "        vertical-align: top;\n",
              "    }\n",
              "\n",
              "    .dataframe thead th {\n",
              "        text-align: right;\n",
              "    }\n",
              "</style>\n",
              "<table border=\"1\" class=\"dataframe\">\n",
              "  <thead>\n",
              "    <tr style=\"text-align: right;\">\n",
              "      <th></th>\n",
              "      <th>V1</th>\n",
              "      <th>V2</th>\n",
              "    </tr>\n",
              "  </thead>\n",
              "  <tbody>\n",
              "    <tr>\n",
              "      <th>0</th>\n",
              "      <td>2.072345</td>\n",
              "      <td>-3.241693</td>\n",
              "    </tr>\n",
              "    <tr>\n",
              "      <th>1</th>\n",
              "      <td>17.936710</td>\n",
              "      <td>15.784810</td>\n",
              "    </tr>\n",
              "    <tr>\n",
              "      <th>2</th>\n",
              "      <td>1.083576</td>\n",
              "      <td>7.319176</td>\n",
              "    </tr>\n",
              "    <tr>\n",
              "      <th>3</th>\n",
              "      <td>11.120670</td>\n",
              "      <td>14.406780</td>\n",
              "    </tr>\n",
              "    <tr>\n",
              "      <th>4</th>\n",
              "      <td>23.711550</td>\n",
              "      <td>2.557729</td>\n",
              "    </tr>\n",
              "  </tbody>\n",
              "</table>\n",
              "</div>"
            ],
            "text/plain": [
              "          V1         V2\n",
              "0   2.072345  -3.241693\n",
              "1  17.936710  15.784810\n",
              "2   1.083576   7.319176\n",
              "3  11.120670  14.406780\n",
              "4  23.711550   2.557729"
            ]
          },
          "metadata": {
            "tags": []
          },
          "execution_count": 23
        }
      ]
    },
    {
      "cell_type": "code",
      "metadata": {
        "id": "7yyhd__zaupj",
        "colab_type": "code",
        "outputId": "4b5e8aed-1c1e-4ad0-fcac-a0f1ddb54bd1",
        "colab": {
          "base_uri": "https://localhost:8080/",
          "height": 282
        }
      },
      "source": [
        "eje1 = data.iloc[:,0].values\n",
        "eje2 = data.iloc[:,1].values\n",
        "\n",
        "x= data.values\n",
        "\n",
        "plt.scatter(eje1, eje2)"
      ],
      "execution_count": 0,
      "outputs": [
        {
          "output_type": "execute_result",
          "data": {
            "text/plain": [
              "<matplotlib.collections.PathCollection at 0x7fb021fbbb70>"
            ]
          },
          "metadata": {
            "tags": []
          },
          "execution_count": 24
        },
        {
          "output_type": "display_data",
          "data": {
            "image/png": "[encoded data removed]",
            "text/plain": [
              "<Figure size 432x288 with 1 Axes>"
            ]
          },
          "metadata": {
            "tags": [],
            "needs_background": "light"
          }
        }
      ]
    },
    {
      "cell_type": "markdown",
      "metadata": {
        "id": "9cW7Cl0yyAoP",
        "colab_type": "text"
      },
      "source": [
        "**Requerimientos**\n",
        "Las funciones que necesitaremos serían:\n",
        "\n",
        "1) Función de costo: en este caso corresponde a la suma de las distancias al cuadrado de cada punto a su centroide asignado\n",
        "\n",
        "2) Función que inicialice los centroides de con coordenadas aleatorias\n",
        "\n",
        "3) Función kMean: es iterativa, evalue de cada punto cada valor asignado.\n",
        "\n",
        "4) Mejor inicio \n",
        "\n",
        "P.S. En parte por esto no está tan optimizado el algoritmo, más que mover los puntos con una minimización\n"
      ]
    },
    {
      "cell_type": "code",
      "metadata": {
        "id": "7BmIq2sgbd_m",
        "colab_type": "code",
        "colab": {}
      },
      "source": [
        "#Función de costo para kMean, es \n",
        "def funcion_de_costo(x, M):\n",
        "  distancias = np.linalg.norm(x - M, axis= 1)\n",
        "  distanciasAlCuadrado= distancias**2\n",
        "  sumatoriaDistanciasAlCuadrado= np.sum(distanciasAlCuadrado)\n",
        "  return sumatoriaDistanciasAlCuadrado / len(x)\n"
      ],
      "execution_count": 0,
      "outputs": []
    },
    {
      "cell_type": "code",
      "metadata": {
        "id": "L3Fb14i4lY4z",
        "colab_type": "code",
        "colab": {}
      },
      "source": [
        "def distancia(x, M, ax = 1):\n",
        "  return np.linalg.norm(x - M, axis= ax)"
      ],
      "execution_count": 0,
      "outputs": []
    },
    {
      "cell_type": "code",
      "metadata": {
        "id": "C1aJJRdXcZrW",
        "colab_type": "code",
        "colab": {}
      },
      "source": [
        "#Asignacion aleatoria de las coordinadas de los centriolos(inicialmente)\n",
        "def centroides_aleatorios(x,k):\n",
        "  xy_centroidesAleatorios= np.random.randint(0, len(x), size=k)\n",
        "  return x[xy_centroidesAleatorios]"
      ],
      "execution_count": 0,
      "outputs": []
    },
    {
      "cell_type": "code",
      "metadata": {
        "id": "qJZBEb06dCmp",
        "colab_type": "code",
        "colab": {}
      },
      "source": [
        "def kMean(x, k, centroides_inicio= None, numeroDeIteraciones= 1000, E=.0001):\n",
        "  if centroides_inicio is None:\n",
        "    centroides_inicio = centroides_aleatorios(x,k)\n",
        "\n",
        "  n= len(x)\n",
        "  M= deepcopy(centroides_inicio)\n",
        "  C= np.zeros(n)\n",
        "\n",
        "  i=0\n",
        "\n",
        "  costoAnterior=1\n",
        "  costo= funcion_de_costo(x, M[C.astype(int)])\n",
        "\n",
        "  while i < numeroDeIteraciones and abs(costoAnterior -costo)> E:\n",
        "    puntos = [[] for j in range(k)]\n",
        "\n",
        "    costoAnterior = costo\n",
        "\n",
        "    for j in range(n):\n",
        "      distancias= distancia(x[j], M)\n",
        "      clase = np.argmin(distancias)\n",
        "      C[j]= clase\n",
        "      puntos[clase].append(x[j])\n",
        "\n",
        "    for j in range(k):\n",
        "      M[j]= np.mean(puntos[j],axis= 0)\n",
        "    i = i+1\n",
        "\n",
        "    return centroides_inicio, M, costo, puntos\n",
        "\n"
      ],
      "execution_count": 0,
      "outputs": []
    },
    {
      "cell_type": "code",
      "metadata": {
        "id": "YREPBk-hjFjG",
        "colab_type": "code",
        "colab": {}
      },
      "source": [
        "def mejor_inicio(x, k, tamanio=100):\n",
        "  inicios= []\n",
        "  costos= []\n",
        "  n= len(x)\n",
        "\n",
        "  for i in range(tamanio):\n",
        "    indices_aleatorios, M, costo, puntos = kMean(x,k)\n",
        "    inicios.append(indices_aleatorios)\n",
        "    costos.append(costo)\n",
        "\n",
        "  MenorCosto= np.argmin(costos)\n",
        "  print (\"El menor costo es\"+str(costos[MenorCosto])+\"y los centroides son:\"+str(inicios[MenorCosto]))\n",
        "  return inicios[MenorCosto], M, costos[MenorCosto], puntos"
      ],
      "execution_count": 0,
      "outputs": []
    },
    {
      "cell_type": "code",
      "metadata": {
        "id": "MtsoK-09mfBs",
        "colab_type": "code",
        "outputId": "b82839a1-3311-4d32-f822-b50d9b2b246b",
        "colab": {
          "base_uri": "https://localhost:8080/",
          "height": 332
        }
      },
      "source": [
        "#Hay varias formas de estimar cuandos centroides hacen el óptimo, es esté caso tomamos 3 por inspección visual de la gráfica\n",
        "k=3\n",
        "centroides_inicio, M, costo, puntos = mejor_inicio(x, k,)\n",
        "\n",
        "colores = ['b','g','r']\n",
        "figura, ax = plt.subplots()\n",
        "for i in range(k):\n",
        "  puntos[i] = np.array(puntos[i])\n",
        "  ax.scatter(puntos[i][:,0], puntos[i][:,1],c=colores[i])\n",
        "ax.scatter(M[:,0], M[:,1], marker=\"*\",c=\"silver\")"
      ],
      "execution_count": 0,
      "outputs": [
        {
          "output_type": "stream",
          "text": [
            "El menor costo es1882.8949283994802y los centroides son:[[ 29.06922  31.39812]\n",
            " [ 39.12633  60.63593]\n",
            " [ 67.71612 -21.95391]]\n"
          ],
          "name": "stdout"
        },
        {
          "output_type": "execute_result",
          "data": {
            "text/plain": [
              "<matplotlib.collections.PathCollection at 0x7fb021f691d0>"
            ]
          },
          "metadata": {
            "tags": []
          },
          "execution_count": 30
        },
        {
          "output_type": "display_data",
          "data": {
            "image/png": "[encoded data removed]",
            "text/plain": [
              "<Figure size 432x288 with 1 Axes>"
            ]
          },
          "metadata": {
            "tags": [],
            "needs_background": "light"
          }
        }
      ]
    }
  ]
}