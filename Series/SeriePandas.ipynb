{
 "cells": [
  {
   "cell_type": "markdown",
   "metadata": {},
   "source": [
    "### Serie Pandas\n",
    "Esta es la segunda serie, en esta quiero que trabajemos con datasets que se obtendrán a partir del github del curso que es: https://github.com/adrishg/PythonML-PrebecariosProteco \n",
    "\n",
    "(No les subiré un punto por seguirme porque no estoy tan desesperada por popularidad pero deberían considerarlo)"
   ]
  },
  {
   "cell_type": "code",
   "execution_count": 4,
   "metadata": {},
   "outputs": [],
   "source": [
    "import pandas as pd"
   ]
  },
  {
   "cell_type": "markdown",
   "metadata": {},
   "source": [
    "1) Considerando el siguiente set de datos:\n",
    "           \n",
    "           a) Crea un dataframe a partir de datos\n",
    "           b) Despliega los primeros tres datos de dicho dataframe\n",
    "           c) Despliga los últimos dos datos de dicho dataframe\n",
    "           d) Una descripción de los datos (count, mean, std, ...) "
   ]
  },
  {
   "cell_type": "code",
   "execution_count": 8,
   "metadata": {},
   "outputs": [],
   "source": [
    "datos = {\n",
    "    'fecha':pd.date_range('20200430', periods=6),\n",
    "    'calidad':pd.Categorical(['buena', 'muy buena', 'mala', 'buena', 'muy mala', 'buena'],\n",
    "                                 categories = ['muy mala', 'mala', 'regular', 'buena', 'muy buena'],\n",
    "                                 ordered = True),\n",
    "    'asistentes':[10, 25, 12, 3, 23, 43],\n",
    "    'recomendaciones':['hablar más lento', 'me aburri', 'Derek hacia cosas raras', 'excelente', 'no se entendio nada',\n",
    "               '¿Y el recreo?']\n",
    "}"
   ]
  },
  {
   "cell_type": "code",
   "execution_count": null,
   "metadata": {},
   "outputs": [],
   "source": []
  },
  {
   "cell_type": "markdown",
   "metadata": {},
   "source": [
    "2) Crea una función que pida número de columnas, su nombre y número de datos a ingresar de manera que el usuario pueda crear un dataframe con los datos de su preferencia."
   ]
  },
  {
   "cell_type": "code",
   "execution_count": null,
   "metadata": {},
   "outputs": [],
   "source": []
  },
  {
   "cell_type": "markdown",
   "metadata": {},
   "source": [
    "3) "
   ]
  }
 ],
 "metadata": {
  "kernelspec": {
   "display_name": "Python 3",
   "language": "python",
   "name": "python3"
  },
  "language_info": {
   "codemirror_mode": {
    "name": "ipython",
    "version": 3
   },
   "file_extension": ".py",
   "mimetype": "text/x-python",
   "name": "python",
   "nbconvert_exporter": "python",
   "pygments_lexer": "ipython3",
   "version": "3.7.3"
  }
 },
 "nbformat": 4,
 "nbformat_minor": 2
}
